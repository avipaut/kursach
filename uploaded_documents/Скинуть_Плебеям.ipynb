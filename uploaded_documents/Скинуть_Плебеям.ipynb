{
 "cells": [
  {
   "cell_type": "code",
   "execution_count": 2,
   "id": "c6a5f301-a0ca-47bd-a08c-81248cb8b4cb",
   "metadata": {
    "ExecuteTime": {
     "end_time": "2024-04-04T03:41:58.813790Z",
     "start_time": "2024-04-04T03:41:58.792047300Z"
    }
   },
   "outputs": [],
   "source": [
    "# Импорт необходимых библиотек\n",
    "import pandas as pd\n",
    "import numpy as np\n",
    "import matplotlib.pyplot as plt\n",
    "import seaborn as sns\n",
    "import warnings\n",
    "warnings.filterwarnings('ignore') "
   ]
  },
  {
   "cell_type": "code",
   "execution_count": 4,
   "id": "b35e30d4-0958-4f3c-8b94-caa8c7f8856d",
   "metadata": {
    "ExecuteTime": {
     "end_time": "2024-04-04T03:41:59.978178500Z",
     "start_time": "2024-04-04T03:41:59.038419500Z"
    }
   },
   "outputs": [
    {
     "ename": "FileNotFoundError",
     "evalue": "[Errno 2] No such file or directory: 'train (5).csv'",
     "output_type": "error",
     "traceback": [
      "\u001b[1;31m---------------------------------------------------------------------------\u001b[0m",
      "\u001b[1;31mFileNotFoundError\u001b[0m                         Traceback (most recent call last)",
      "Cell \u001b[1;32mIn[4], line 2\u001b[0m\n\u001b[0;32m      1\u001b[0m \u001b[38;5;66;03m# Загрузка датасета\u001b[39;00m\n\u001b[1;32m----> 2\u001b[0m data \u001b[38;5;241m=\u001b[39m \u001b[43mpd\u001b[49m\u001b[38;5;241;43m.\u001b[39;49m\u001b[43mread_csv\u001b[49m\u001b[43m(\u001b[49m\u001b[38;5;124;43m'\u001b[39;49m\u001b[38;5;124;43mtrain (5).csv\u001b[39;49m\u001b[38;5;124;43m'\u001b[39;49m\u001b[43m)\u001b[49m\n",
      "File \u001b[1;32m~\\AppData\\Local\\Packages\\PythonSoftwareFoundation.Python.3.10_qbz5n2kfra8p0\\LocalCache\\local-packages\\Python310\\site-packages\\pandas\\io\\parsers\\readers.py:948\u001b[0m, in \u001b[0;36mread_csv\u001b[1;34m(filepath_or_buffer, sep, delimiter, header, names, index_col, usecols, dtype, engine, converters, true_values, false_values, skipinitialspace, skiprows, skipfooter, nrows, na_values, keep_default_na, na_filter, verbose, skip_blank_lines, parse_dates, infer_datetime_format, keep_date_col, date_parser, date_format, dayfirst, cache_dates, iterator, chunksize, compression, thousands, decimal, lineterminator, quotechar, quoting, doublequote, escapechar, comment, encoding, encoding_errors, dialect, on_bad_lines, delim_whitespace, low_memory, memory_map, float_precision, storage_options, dtype_backend)\u001b[0m\n\u001b[0;32m    935\u001b[0m kwds_defaults \u001b[38;5;241m=\u001b[39m _refine_defaults_read(\n\u001b[0;32m    936\u001b[0m     dialect,\n\u001b[0;32m    937\u001b[0m     delimiter,\n\u001b[1;32m   (...)\u001b[0m\n\u001b[0;32m    944\u001b[0m     dtype_backend\u001b[38;5;241m=\u001b[39mdtype_backend,\n\u001b[0;32m    945\u001b[0m )\n\u001b[0;32m    946\u001b[0m kwds\u001b[38;5;241m.\u001b[39mupdate(kwds_defaults)\n\u001b[1;32m--> 948\u001b[0m \u001b[38;5;28;01mreturn\u001b[39;00m \u001b[43m_read\u001b[49m\u001b[43m(\u001b[49m\u001b[43mfilepath_or_buffer\u001b[49m\u001b[43m,\u001b[49m\u001b[43m \u001b[49m\u001b[43mkwds\u001b[49m\u001b[43m)\u001b[49m\n",
      "File \u001b[1;32m~\\AppData\\Local\\Packages\\PythonSoftwareFoundation.Python.3.10_qbz5n2kfra8p0\\LocalCache\\local-packages\\Python310\\site-packages\\pandas\\io\\parsers\\readers.py:611\u001b[0m, in \u001b[0;36m_read\u001b[1;34m(filepath_or_buffer, kwds)\u001b[0m\n\u001b[0;32m    608\u001b[0m _validate_names(kwds\u001b[38;5;241m.\u001b[39mget(\u001b[38;5;124m\"\u001b[39m\u001b[38;5;124mnames\u001b[39m\u001b[38;5;124m\"\u001b[39m, \u001b[38;5;28;01mNone\u001b[39;00m))\n\u001b[0;32m    610\u001b[0m \u001b[38;5;66;03m# Create the parser.\u001b[39;00m\n\u001b[1;32m--> 611\u001b[0m parser \u001b[38;5;241m=\u001b[39m TextFileReader(filepath_or_buffer, \u001b[38;5;241m*\u001b[39m\u001b[38;5;241m*\u001b[39mkwds)\n\u001b[0;32m    613\u001b[0m \u001b[38;5;28;01mif\u001b[39;00m chunksize \u001b[38;5;129;01mor\u001b[39;00m iterator:\n\u001b[0;32m    614\u001b[0m     \u001b[38;5;28;01mreturn\u001b[39;00m parser\n",
      "File \u001b[1;32m~\\AppData\\Local\\Packages\\PythonSoftwareFoundation.Python.3.10_qbz5n2kfra8p0\\LocalCache\\local-packages\\Python310\\site-packages\\pandas\\io\\parsers\\readers.py:1448\u001b[0m, in \u001b[0;36mTextFileReader.__init__\u001b[1;34m(self, f, engine, **kwds)\u001b[0m\n\u001b[0;32m   1445\u001b[0m     \u001b[38;5;28mself\u001b[39m\u001b[38;5;241m.\u001b[39moptions[\u001b[38;5;124m\"\u001b[39m\u001b[38;5;124mhas_index_names\u001b[39m\u001b[38;5;124m\"\u001b[39m] \u001b[38;5;241m=\u001b[39m kwds[\u001b[38;5;124m\"\u001b[39m\u001b[38;5;124mhas_index_names\u001b[39m\u001b[38;5;124m\"\u001b[39m]\n\u001b[0;32m   1447\u001b[0m \u001b[38;5;28mself\u001b[39m\u001b[38;5;241m.\u001b[39mhandles: IOHandles \u001b[38;5;241m|\u001b[39m \u001b[38;5;28;01mNone\u001b[39;00m \u001b[38;5;241m=\u001b[39m \u001b[38;5;28;01mNone\u001b[39;00m\n\u001b[1;32m-> 1448\u001b[0m \u001b[38;5;28mself\u001b[39m\u001b[38;5;241m.\u001b[39m_engine \u001b[38;5;241m=\u001b[39m \u001b[38;5;28;43mself\u001b[39;49m\u001b[38;5;241;43m.\u001b[39;49m\u001b[43m_make_engine\u001b[49m\u001b[43m(\u001b[49m\u001b[43mf\u001b[49m\u001b[43m,\u001b[49m\u001b[43m \u001b[49m\u001b[38;5;28;43mself\u001b[39;49m\u001b[38;5;241;43m.\u001b[39;49m\u001b[43mengine\u001b[49m\u001b[43m)\u001b[49m\n",
      "File \u001b[1;32m~\\AppData\\Local\\Packages\\PythonSoftwareFoundation.Python.3.10_qbz5n2kfra8p0\\LocalCache\\local-packages\\Python310\\site-packages\\pandas\\io\\parsers\\readers.py:1705\u001b[0m, in \u001b[0;36mTextFileReader._make_engine\u001b[1;34m(self, f, engine)\u001b[0m\n\u001b[0;32m   1703\u001b[0m     \u001b[38;5;28;01mif\u001b[39;00m \u001b[38;5;124m\"\u001b[39m\u001b[38;5;124mb\u001b[39m\u001b[38;5;124m\"\u001b[39m \u001b[38;5;129;01mnot\u001b[39;00m \u001b[38;5;129;01min\u001b[39;00m mode:\n\u001b[0;32m   1704\u001b[0m         mode \u001b[38;5;241m+\u001b[39m\u001b[38;5;241m=\u001b[39m \u001b[38;5;124m\"\u001b[39m\u001b[38;5;124mb\u001b[39m\u001b[38;5;124m\"\u001b[39m\n\u001b[1;32m-> 1705\u001b[0m \u001b[38;5;28mself\u001b[39m\u001b[38;5;241m.\u001b[39mhandles \u001b[38;5;241m=\u001b[39m \u001b[43mget_handle\u001b[49m\u001b[43m(\u001b[49m\n\u001b[0;32m   1706\u001b[0m \u001b[43m    \u001b[49m\u001b[43mf\u001b[49m\u001b[43m,\u001b[49m\n\u001b[0;32m   1707\u001b[0m \u001b[43m    \u001b[49m\u001b[43mmode\u001b[49m\u001b[43m,\u001b[49m\n\u001b[0;32m   1708\u001b[0m \u001b[43m    \u001b[49m\u001b[43mencoding\u001b[49m\u001b[38;5;241;43m=\u001b[39;49m\u001b[38;5;28;43mself\u001b[39;49m\u001b[38;5;241;43m.\u001b[39;49m\u001b[43moptions\u001b[49m\u001b[38;5;241;43m.\u001b[39;49m\u001b[43mget\u001b[49m\u001b[43m(\u001b[49m\u001b[38;5;124;43m\"\u001b[39;49m\u001b[38;5;124;43mencoding\u001b[39;49m\u001b[38;5;124;43m\"\u001b[39;49m\u001b[43m,\u001b[49m\u001b[43m \u001b[49m\u001b[38;5;28;43;01mNone\u001b[39;49;00m\u001b[43m)\u001b[49m\u001b[43m,\u001b[49m\n\u001b[0;32m   1709\u001b[0m \u001b[43m    \u001b[49m\u001b[43mcompression\u001b[49m\u001b[38;5;241;43m=\u001b[39;49m\u001b[38;5;28;43mself\u001b[39;49m\u001b[38;5;241;43m.\u001b[39;49m\u001b[43moptions\u001b[49m\u001b[38;5;241;43m.\u001b[39;49m\u001b[43mget\u001b[49m\u001b[43m(\u001b[49m\u001b[38;5;124;43m\"\u001b[39;49m\u001b[38;5;124;43mcompression\u001b[39;49m\u001b[38;5;124;43m\"\u001b[39;49m\u001b[43m,\u001b[49m\u001b[43m \u001b[49m\u001b[38;5;28;43;01mNone\u001b[39;49;00m\u001b[43m)\u001b[49m\u001b[43m,\u001b[49m\n\u001b[0;32m   1710\u001b[0m \u001b[43m    \u001b[49m\u001b[43mmemory_map\u001b[49m\u001b[38;5;241;43m=\u001b[39;49m\u001b[38;5;28;43mself\u001b[39;49m\u001b[38;5;241;43m.\u001b[39;49m\u001b[43moptions\u001b[49m\u001b[38;5;241;43m.\u001b[39;49m\u001b[43mget\u001b[49m\u001b[43m(\u001b[49m\u001b[38;5;124;43m\"\u001b[39;49m\u001b[38;5;124;43mmemory_map\u001b[39;49m\u001b[38;5;124;43m\"\u001b[39;49m\u001b[43m,\u001b[49m\u001b[43m \u001b[49m\u001b[38;5;28;43;01mFalse\u001b[39;49;00m\u001b[43m)\u001b[49m\u001b[43m,\u001b[49m\n\u001b[0;32m   1711\u001b[0m \u001b[43m    \u001b[49m\u001b[43mis_text\u001b[49m\u001b[38;5;241;43m=\u001b[39;49m\u001b[43mis_text\u001b[49m\u001b[43m,\u001b[49m\n\u001b[0;32m   1712\u001b[0m \u001b[43m    \u001b[49m\u001b[43merrors\u001b[49m\u001b[38;5;241;43m=\u001b[39;49m\u001b[38;5;28;43mself\u001b[39;49m\u001b[38;5;241;43m.\u001b[39;49m\u001b[43moptions\u001b[49m\u001b[38;5;241;43m.\u001b[39;49m\u001b[43mget\u001b[49m\u001b[43m(\u001b[49m\u001b[38;5;124;43m\"\u001b[39;49m\u001b[38;5;124;43mencoding_errors\u001b[39;49m\u001b[38;5;124;43m\"\u001b[39;49m\u001b[43m,\u001b[49m\u001b[43m \u001b[49m\u001b[38;5;124;43m\"\u001b[39;49m\u001b[38;5;124;43mstrict\u001b[39;49m\u001b[38;5;124;43m\"\u001b[39;49m\u001b[43m)\u001b[49m\u001b[43m,\u001b[49m\n\u001b[0;32m   1713\u001b[0m \u001b[43m    \u001b[49m\u001b[43mstorage_options\u001b[49m\u001b[38;5;241;43m=\u001b[39;49m\u001b[38;5;28;43mself\u001b[39;49m\u001b[38;5;241;43m.\u001b[39;49m\u001b[43moptions\u001b[49m\u001b[38;5;241;43m.\u001b[39;49m\u001b[43mget\u001b[49m\u001b[43m(\u001b[49m\u001b[38;5;124;43m\"\u001b[39;49m\u001b[38;5;124;43mstorage_options\u001b[39;49m\u001b[38;5;124;43m\"\u001b[39;49m\u001b[43m,\u001b[49m\u001b[43m \u001b[49m\u001b[38;5;28;43;01mNone\u001b[39;49;00m\u001b[43m)\u001b[49m\u001b[43m,\u001b[49m\n\u001b[0;32m   1714\u001b[0m \u001b[43m\u001b[49m\u001b[43m)\u001b[49m\n\u001b[0;32m   1715\u001b[0m \u001b[38;5;28;01massert\u001b[39;00m \u001b[38;5;28mself\u001b[39m\u001b[38;5;241m.\u001b[39mhandles \u001b[38;5;129;01mis\u001b[39;00m \u001b[38;5;129;01mnot\u001b[39;00m \u001b[38;5;28;01mNone\u001b[39;00m\n\u001b[0;32m   1716\u001b[0m f \u001b[38;5;241m=\u001b[39m \u001b[38;5;28mself\u001b[39m\u001b[38;5;241m.\u001b[39mhandles\u001b[38;5;241m.\u001b[39mhandle\n",
      "File \u001b[1;32m~\\AppData\\Local\\Packages\\PythonSoftwareFoundation.Python.3.10_qbz5n2kfra8p0\\LocalCache\\local-packages\\Python310\\site-packages\\pandas\\io\\common.py:863\u001b[0m, in \u001b[0;36mget_handle\u001b[1;34m(path_or_buf, mode, encoding, compression, memory_map, is_text, errors, storage_options)\u001b[0m\n\u001b[0;32m    858\u001b[0m \u001b[38;5;28;01melif\u001b[39;00m \u001b[38;5;28misinstance\u001b[39m(handle, \u001b[38;5;28mstr\u001b[39m):\n\u001b[0;32m    859\u001b[0m     \u001b[38;5;66;03m# Check whether the filename is to be opened in binary mode.\u001b[39;00m\n\u001b[0;32m    860\u001b[0m     \u001b[38;5;66;03m# Binary mode does not support 'encoding' and 'newline'.\u001b[39;00m\n\u001b[0;32m    861\u001b[0m     \u001b[38;5;28;01mif\u001b[39;00m ioargs\u001b[38;5;241m.\u001b[39mencoding \u001b[38;5;129;01mand\u001b[39;00m \u001b[38;5;124m\"\u001b[39m\u001b[38;5;124mb\u001b[39m\u001b[38;5;124m\"\u001b[39m \u001b[38;5;129;01mnot\u001b[39;00m \u001b[38;5;129;01min\u001b[39;00m ioargs\u001b[38;5;241m.\u001b[39mmode:\n\u001b[0;32m    862\u001b[0m         \u001b[38;5;66;03m# Encoding\u001b[39;00m\n\u001b[1;32m--> 863\u001b[0m         handle \u001b[38;5;241m=\u001b[39m \u001b[38;5;28;43mopen\u001b[39;49m\u001b[43m(\u001b[49m\n\u001b[0;32m    864\u001b[0m \u001b[43m            \u001b[49m\u001b[43mhandle\u001b[49m\u001b[43m,\u001b[49m\n\u001b[0;32m    865\u001b[0m \u001b[43m            \u001b[49m\u001b[43mioargs\u001b[49m\u001b[38;5;241;43m.\u001b[39;49m\u001b[43mmode\u001b[49m\u001b[43m,\u001b[49m\n\u001b[0;32m    866\u001b[0m \u001b[43m            \u001b[49m\u001b[43mencoding\u001b[49m\u001b[38;5;241;43m=\u001b[39;49m\u001b[43mioargs\u001b[49m\u001b[38;5;241;43m.\u001b[39;49m\u001b[43mencoding\u001b[49m\u001b[43m,\u001b[49m\n\u001b[0;32m    867\u001b[0m \u001b[43m            \u001b[49m\u001b[43merrors\u001b[49m\u001b[38;5;241;43m=\u001b[39;49m\u001b[43merrors\u001b[49m\u001b[43m,\u001b[49m\n\u001b[0;32m    868\u001b[0m \u001b[43m            \u001b[49m\u001b[43mnewline\u001b[49m\u001b[38;5;241;43m=\u001b[39;49m\u001b[38;5;124;43m\"\u001b[39;49m\u001b[38;5;124;43m\"\u001b[39;49m\u001b[43m,\u001b[49m\n\u001b[0;32m    869\u001b[0m \u001b[43m        \u001b[49m\u001b[43m)\u001b[49m\n\u001b[0;32m    870\u001b[0m     \u001b[38;5;28;01melse\u001b[39;00m:\n\u001b[0;32m    871\u001b[0m         \u001b[38;5;66;03m# Binary mode\u001b[39;00m\n\u001b[0;32m    872\u001b[0m         handle \u001b[38;5;241m=\u001b[39m \u001b[38;5;28mopen\u001b[39m(handle, ioargs\u001b[38;5;241m.\u001b[39mmode)\n",
      "\u001b[1;31mFileNotFoundError\u001b[0m: [Errno 2] No such file or directory: 'train (5).csv'"
     ]
    }
   ],
   "source": [
    "# Загрузка датасета\n",
    "data = pd.read_csv('train (5).csv')"
   ]
  },
  {
   "cell_type": "code",
   "execution_count": null,
   "id": "80d7a949e46d8f55",
   "metadata": {
    "ExecuteTime": {
     "end_time": "2024-04-04T03:42:00.034110200Z",
     "start_time": "2024-04-04T03:41:59.980970700Z"
    },
    "collapsed": false
   },
   "outputs": [],
   "source": [
    "data.head(5)\n",
    "df = data.copy()"
   ]
  },
  {
   "cell_type": "code",
   "execution_count": null,
   "id": "7eb3ddd2",
   "metadata": {},
   "outputs": [
    {
     "data": {
      "text/plain": [
       "Index(['ID', 'Customer_ID', 'Month', 'Name', 'Age', 'SSN', 'Occupation',\n",
       "       'Annual_Income', 'Monthly_Inhand_Salary', 'Num_Bank_Accounts',\n",
       "       'Num_Credit_Card', 'Interest_Rate', 'Num_of_Loan', 'Type_of_Loan',\n",
       "       'Delay_from_due_date', 'Num_of_Delayed_Payment', 'Changed_Credit_Limit',\n",
       "       'Num_Credit_Inquiries', 'Credit_Mix', 'Outstanding_Debt',\n",
       "       'Credit_Utilization_Ratio', 'Credit_History_Age',\n",
       "       'Payment_of_Min_Amount', 'Total_EMI_per_month',\n",
       "       'Amount_invested_monthly', 'Payment_Behaviour', 'Monthly_Balance',\n",
       "       'Credit_Score'],\n",
       "      dtype='object')"
      ]
     },
     "execution_count": 79,
     "metadata": {},
     "output_type": "execute_result"
    }
   ],
   "source": [
    "df.columns"
   ]
  },
  {
   "cell_type": "code",
   "execution_count": null,
   "id": "57b065be2b05426d",
   "metadata": {
    "ExecuteTime": {
     "end_time": "2024-04-04T03:42:00.075482500Z",
     "start_time": "2024-04-04T03:42:00.032965200Z"
    },
    "collapsed": false
   },
   "outputs": [
    {
     "data": {
      "text/plain": [
       "array(['_', 'Good', 'Standard', 'Bad'], dtype=object)"
      ]
     },
     "execution_count": 80,
     "metadata": {},
     "output_type": "execute_result"
    }
   ],
   "source": [
    "# Исследование датасета\n",
    "df[\"Credit_Mix\"].unique()"
   ]
  },
  {
   "cell_type": "code",
   "execution_count": null,
   "id": "eec13916a12914db",
   "metadata": {
    "ExecuteTime": {
     "end_time": "2024-04-04T03:42:00.643827700Z",
     "start_time": "2024-04-04T03:42:00.605975400Z"
    },
    "collapsed": false
   },
   "outputs": [
    {
     "data": {
      "text/plain": [
       "(100000, 28)"
      ]
     },
     "execution_count": 81,
     "metadata": {},
     "output_type": "execute_result"
    }
   ],
   "source": [
    "df.shape"
   ]
  },
  {
   "cell_type": "code",
   "execution_count": null,
   "id": "b2f14f95-a8d6-401b-8443-cca772c820ef",
   "metadata": {
    "ExecuteTime": {
     "end_time": "2024-04-04T03:42:02.804948500Z",
     "start_time": "2024-04-04T03:42:02.578718Z"
    }
   },
   "outputs": [
    {
     "name": "stdout",
     "output_type": "stream",
     "text": [
      "Первые строки датасета:\n",
      "       ID Customer_ID     Month           Name   Age          SSN Occupation  \\\n",
      "0  0x1602   CUS_0xd40   January  Aaron Maashoh    23  821-00-0265  Scientist   \n",
      "1  0x1603   CUS_0xd40  February  Aaron Maashoh    23  821-00-0265  Scientist   \n",
      "2  0x1604   CUS_0xd40     March  Aaron Maashoh  -500  821-00-0265  Scientist   \n",
      "3  0x1605   CUS_0xd40     April  Aaron Maashoh    23  821-00-0265  Scientist   \n",
      "4  0x1606   CUS_0xd40       May  Aaron Maashoh    23  821-00-0265  Scientist   \n",
      "\n",
      "  Annual_Income  Monthly_Inhand_Salary  Num_Bank_Accounts  ...  Credit_Mix  \\\n",
      "0      19114.12            1824.843333                  3  ...           _   \n",
      "1      19114.12                    NaN                  3  ...        Good   \n",
      "2      19114.12                    NaN                  3  ...        Good   \n",
      "3      19114.12                    NaN                  3  ...        Good   \n",
      "4      19114.12            1824.843333                  3  ...        Good   \n",
      "\n",
      "   Outstanding_Debt Credit_Utilization_Ratio     Credit_History_Age  \\\n",
      "0            809.98                26.822620  22 Years and 1 Months   \n",
      "1            809.98                31.944960                    NaN   \n",
      "2            809.98                28.609352  22 Years and 3 Months   \n",
      "3            809.98                31.377862  22 Years and 4 Months   \n",
      "4            809.98                24.797347  22 Years and 5 Months   \n",
      "\n",
      "   Payment_of_Min_Amount Total_EMI_per_month Amount_invested_monthly  \\\n",
      "0                     No           49.574949       80.41529543900253   \n",
      "1                     No           49.574949      118.28022162236736   \n",
      "2                     No           49.574949         81.699521264648   \n",
      "3                     No           49.574949       199.4580743910713   \n",
      "4                     No           49.574949      41.420153086217326   \n",
      "\n",
      "                  Payment_Behaviour     Monthly_Balance Credit_Score  \n",
      "0   High_spent_Small_value_payments  312.49408867943663         Good  \n",
      "1    Low_spent_Large_value_payments  284.62916249607184         Good  \n",
      "2   Low_spent_Medium_value_payments   331.2098628537912         Good  \n",
      "3    Low_spent_Small_value_payments  223.45130972736786         Good  \n",
      "4  High_spent_Medium_value_payments  341.48923103222177         Good  \n",
      "\n",
      "[5 rows x 28 columns]\n",
      "\n",
      "Информация о датасете:\n",
      "<class 'pandas.core.frame.DataFrame'>\n",
      "RangeIndex: 100000 entries, 0 to 99999\n",
      "Data columns (total 28 columns):\n",
      " #   Column                    Non-Null Count   Dtype  \n",
      "---  ------                    --------------   -----  \n",
      " 0   ID                        100000 non-null  object \n",
      " 1   Customer_ID               100000 non-null  object \n",
      " 2   Month                     100000 non-null  object \n",
      " 3   Name                      90015 non-null   object \n",
      " 4   Age                       100000 non-null  object \n",
      " 5   SSN                       100000 non-null  object \n",
      " 6   Occupation                100000 non-null  object \n",
      " 7   Annual_Income             100000 non-null  object \n",
      " 8   Monthly_Inhand_Salary     84998 non-null   float64\n",
      " 9   Num_Bank_Accounts         100000 non-null  int64  \n",
      " 10  Num_Credit_Card           100000 non-null  int64  \n",
      " 11  Interest_Rate             100000 non-null  int64  \n",
      " 12  Num_of_Loan               100000 non-null  object \n",
      " 13  Type_of_Loan              88592 non-null   object \n",
      " 14  Delay_from_due_date       100000 non-null  int64  \n",
      " 15  Num_of_Delayed_Payment    92998 non-null   object \n",
      " 16  Changed_Credit_Limit      100000 non-null  object \n",
      " 17  Num_Credit_Inquiries      98035 non-null   float64\n",
      " 18  Credit_Mix                100000 non-null  object \n",
      " 19  Outstanding_Debt          100000 non-null  object \n",
      " 20  Credit_Utilization_Ratio  100000 non-null  float64\n",
      " 21  Credit_History_Age        90970 non-null   object \n",
      " 22  Payment_of_Min_Amount     100000 non-null  object \n",
      " 23  Total_EMI_per_month       100000 non-null  float64\n",
      " 24  Amount_invested_monthly   95521 non-null   object \n",
      " 25  Payment_Behaviour         100000 non-null  object \n",
      " 26  Monthly_Balance           98800 non-null   object \n",
      " 27  Credit_Score              100000 non-null  object \n",
      "dtypes: float64(4), int64(4), object(20)\n",
      "memory usage: 21.4+ MB\n",
      "\n",
      "Описательная статистика для числовых колонок:\n",
      "       Monthly_Inhand_Salary  Num_Bank_Accounts  Num_Credit_Card  \\\n",
      "count           84998.000000      100000.000000     100000.00000   \n",
      "mean             4194.170850          17.091280         22.47443   \n",
      "std              3183.686167         117.404834        129.05741   \n",
      "min               303.645417          -1.000000          0.00000   \n",
      "25%              1625.568229           3.000000          4.00000   \n",
      "50%              3093.745000           6.000000          5.00000   \n",
      "75%              5957.448333           7.000000          7.00000   \n",
      "max             15204.633333        1798.000000       1499.00000   \n",
      "\n",
      "       Interest_Rate  Delay_from_due_date  Num_Credit_Inquiries  \\\n",
      "count  100000.000000        100000.000000          98035.000000   \n",
      "mean       72.466040            21.068780             27.754251   \n",
      "std       466.422621            14.860104            193.177339   \n",
      "min         1.000000            -5.000000              0.000000   \n",
      "25%         8.000000            10.000000              3.000000   \n",
      "50%        13.000000            18.000000              6.000000   \n",
      "75%        20.000000            28.000000              9.000000   \n",
      "max      5797.000000            67.000000           2597.000000   \n",
      "\n",
      "       Credit_Utilization_Ratio  Total_EMI_per_month  \n",
      "count             100000.000000        100000.000000  \n",
      "mean                  32.285173          1403.118217  \n",
      "std                    5.116875          8306.041270  \n",
      "min                   20.000000             0.000000  \n",
      "25%                   28.052567            30.306660  \n",
      "50%                   32.305784            69.249473  \n",
      "75%                   36.496663           161.224249  \n",
      "max                   50.000000         82331.000000  \n"
     ]
    }
   ],
   "source": [
    "# Показать первые строки датасета для предварительного осмотра\n",
    "print(\"Первые строки датасета:\")\n",
    "print(df.head())\n",
    "\n",
    "# Получение суммарной информации о датасете\n",
    "print(\"\\nИнформация о датасете:\")\n",
    "df.info()\n",
    "\n",
    "# Показать описательную статистику для числовых колонок\n",
    "print(\"\\nОписательная статистика для числовых колонок:\")\n",
    "print(df.describe())\n"
   ]
  },
  {
   "cell_type": "code",
   "execution_count": null,
   "id": "13971a5f-95d4-48f4-a1d0-3a9f696f4a5d",
   "metadata": {
    "ExecuteTime": {
     "end_time": "2024-04-04T03:42:03.939311800Z",
     "start_time": "2024-04-04T03:42:03.863374Z"
    }
   },
   "outputs": [],
   "source": [
    "df.drop([\"ID\",\"Customer_ID\",\"Month\",\"Name\",\"SSN\",\"Age\",\"Occupation\"],axis = 1,inplace = True)"
   ]
  },
  {
   "cell_type": "code",
   "execution_count": null,
   "id": "d024a1d967e2221d",
   "metadata": {
    "ExecuteTime": {
     "end_time": "2024-04-04T03:42:05.360106700Z",
     "start_time": "2024-04-04T03:42:05.320636500Z"
    },
    "collapsed": false
   },
   "outputs": [
    {
     "data": {
      "text/plain": [
       "Annual_Income                   0\n",
       "Monthly_Inhand_Salary       15002\n",
       "Num_Bank_Accounts               0\n",
       "Num_Credit_Card                 0\n",
       "Interest_Rate                   0\n",
       "Num_of_Loan                     0\n",
       "Type_of_Loan                11408\n",
       "Delay_from_due_date             0\n",
       "Num_of_Delayed_Payment       7002\n",
       "Changed_Credit_Limit            0\n",
       "Num_Credit_Inquiries         1965\n",
       "Credit_Mix                      0\n",
       "Outstanding_Debt                0\n",
       "Credit_Utilization_Ratio        0\n",
       "Credit_History_Age           9030\n",
       "Payment_of_Min_Amount           0\n",
       "Total_EMI_per_month             0\n",
       "Amount_invested_monthly      4479\n",
       "Payment_Behaviour               0\n",
       "Monthly_Balance              1200\n",
       "Credit_Score                    0\n",
       "dtype: int64"
      ]
     },
     "execution_count": 84,
     "metadata": {},
     "output_type": "execute_result"
    }
   ],
   "source": [
    "df.isna().sum()"
   ]
  },
  {
   "cell_type": "code",
   "execution_count": null,
   "id": "fcdadfafd803fbd5",
   "metadata": {
    "ExecuteTime": {
     "end_time": "2024-04-04T03:42:14.934763400Z",
     "start_time": "2024-04-04T03:42:14.782259900Z"
    },
    "collapsed": false
   },
   "outputs": [
    {
     "data": {
      "text/plain": [
       "Annual_Income                object\n",
       "Monthly_Inhand_Salary       float64\n",
       "Num_Bank_Accounts             int64\n",
       "Num_Credit_Card               int64\n",
       "Interest_Rate                 int64\n",
       "Num_of_Loan                  object\n",
       "Type_of_Loan                 object\n",
       "Delay_from_due_date           int64\n",
       "Num_of_Delayed_Payment       object\n",
       "Changed_Credit_Limit         object\n",
       "Num_Credit_Inquiries        float64\n",
       "Credit_Mix                   object\n",
       "Outstanding_Debt             object\n",
       "Credit_Utilization_Ratio    float64\n",
       "Credit_History_Age           object\n",
       "Payment_of_Min_Amount        object\n",
       "Total_EMI_per_month         float64\n",
       "Amount_invested_monthly      object\n",
       "Payment_Behaviour            object\n",
       "Monthly_Balance              object\n",
       "Credit_Score                 object\n",
       "dtype: object"
      ]
     },
     "execution_count": 85,
     "metadata": {},
     "output_type": "execute_result"
    }
   ],
   "source": [
    "df.dtypes"
   ]
  },
  {
   "cell_type": "code",
   "execution_count": null,
   "id": "17a93ee9-136b-447c-883a-8d635e38be96",
   "metadata": {
    "ExecuteTime": {
     "end_time": "2024-04-04T03:42:38.397789600Z",
     "start_time": "2024-04-04T03:42:38.353649400Z"
    }
   },
   "outputs": [],
   "source": [
    "def impute_dataset(df):\n",
    "    for col_name in df.columns:\n",
    "        if df[col_name].isna().sum() > 0 and df[col_name].nunique() > 5 and df[col_name].dtypes != \"object\":\n",
    "            df[col_name].fillna(df[col_name].mean(),inplace = True)\n",
    "        elif df[col_name].isna().sum() > 0 and df[col_name].nunique() < 5 and df[col_name].dtypes != \"object\":\n",
    "            df[col_name].fillna(df[col_name].mode().iloc[0],inplace = True)"
   ]
  },
  {
   "cell_type": "code",
   "execution_count": null,
   "id": "1b2b46055c4d94b5",
   "metadata": {
    "ExecuteTime": {
     "end_time": "2024-04-04T03:42:45.109937600Z",
     "start_time": "2024-04-04T03:42:44.888943Z"
    },
    "collapsed": false
   },
   "outputs": [],
   "source": [
    "df['Type_of_Loan'] = df['Type_of_Loan'].apply(lambda x: ', '.join(set(item.replace(\" and \", \"\").strip() for item in str(x).split(','))))"
   ]
  },
  {
   "cell_type": "code",
   "execution_count": null,
   "id": "10c7efa3c8ed6cdb",
   "metadata": {
    "ExecuteTime": {
     "end_time": "2024-04-04T03:43:00.004073200Z",
     "start_time": "2024-04-04T03:42:59.890542400Z"
    },
    "collapsed": false
   },
   "outputs": [
    {
     "data": {
      "text/plain": [
       "0        Credit-Builder Loan, Personal Loan, Auto Loan,...\n",
       "1        Credit-Builder Loan, Personal Loan, Auto Loan,...\n",
       "2        Credit-Builder Loan, Personal Loan, Auto Loan,...\n",
       "3        Credit-Builder Loan, Personal Loan, Auto Loan,...\n",
       "4        Credit-Builder Loan, Personal Loan, Auto Loan,...\n",
       "                               ...                        \n",
       "99995                              Student Loan, Auto Loan\n",
       "99996                              Student Loan, Auto Loan\n",
       "99997                              Student Loan, Auto Loan\n",
       "99998                              Student Loan, Auto Loan\n",
       "99999                              Student Loan, Auto Loan\n",
       "Name: Type_of_Loan, Length: 100000, dtype: object"
      ]
     },
     "execution_count": 88,
     "metadata": {},
     "output_type": "execute_result"
    }
   ],
   "source": [
    "df['Type_of_Loan']"
   ]
  },
  {
   "cell_type": "code",
   "execution_count": null,
   "id": "c5b3f5db62305011",
   "metadata": {
    "ExecuteTime": {
     "end_time": "2024-04-04T03:43:09.301802900Z",
     "start_time": "2024-04-04T03:43:09.180964900Z"
    },
    "collapsed": false
   },
   "outputs": [],
   "source": [
    "unique_values_set = set()\n",
    "\n",
    "for value in df[\"Type_of_Loan\"]:\n",
    "    value_list = [item.replace(\" and \",\"\").strip() for item in str(value).split(\",\") if item.strip() not in unique_values_set]\n",
    "    unique_values_set.update(value_list)\n",
    "\n",
    "unique_values = list(unique_values_set)"
   ]
  },
  {
   "cell_type": "code",
   "execution_count": null,
   "id": "6cf272b2e1441d2b",
   "metadata": {
    "ExecuteTime": {
     "end_time": "2024-04-04T03:43:17.018854200Z",
     "start_time": "2024-04-04T03:43:16.982369300Z"
    },
    "collapsed": false
   },
   "outputs": [
    {
     "name": "stdout",
     "output_type": "stream",
     "text": [
      "{'Credit-Builder Loan', 'nan', 'Student Loan', 'Not Specified', 'Payday Loan', 'Personal Loan', 'Mortgage Loan', 'Auto Loan', 'Home Equity Loan', 'Debt Consolidation Loan'}\n"
     ]
    }
   ],
   "source": [
    "print(unique_values_set)"
   ]
  },
  {
   "cell_type": "code",
   "execution_count": null,
   "id": "c06a5544fe06f644",
   "metadata": {
    "ExecuteTime": {
     "end_time": "2024-04-04T03:43:26.492442900Z",
     "start_time": "2024-04-04T03:43:26.454536800Z"
    },
    "collapsed": false
   },
   "outputs": [],
   "source": [
    "df['Type_of_Loan'] = df['Type_of_Loan'].str.replace('and','')"
   ]
  },
  {
   "cell_type": "code",
   "execution_count": null,
   "id": "142a720a347917ac",
   "metadata": {
    "ExecuteTime": {
     "end_time": "2024-04-04T03:43:53.827820800Z",
     "start_time": "2024-04-04T03:43:53.776782400Z"
    },
    "collapsed": false
   },
   "outputs": [],
   "source": [
    "df['Type_of_Loan'] = df['Type_of_Loan'].str.strip('')"
   ]
  },
  {
   "cell_type": "code",
   "execution_count": null,
   "id": "4196e1f2248f2f39",
   "metadata": {
    "ExecuteTime": {
     "end_time": "2024-04-04T03:43:54.150407300Z",
     "start_time": "2024-04-04T03:43:54.109343Z"
    },
    "collapsed": false
   },
   "outputs": [
    {
     "data": {
      "text/plain": [
       "'Credit-Builder Loan, Personal Loan, Auto Loan, Home Equity Loan'"
      ]
     },
     "execution_count": 93,
     "metadata": {},
     "output_type": "execute_result"
    }
   ],
   "source": [
    "df['Type_of_Loan'][0]"
   ]
  },
  {
   "cell_type": "code",
   "execution_count": null,
   "id": "f9c8438ce1eb4597",
   "metadata": {
    "ExecuteTime": {
     "end_time": "2024-04-04T03:44:17.009400600Z",
     "start_time": "2024-04-04T03:44:15.132878600Z"
    },
    "collapsed": false
   },
   "outputs": [],
   "source": [
    "dummies = df['Type_of_Loan'].str.get_dummies(\", \")"
   ]
  },
  {
   "cell_type": "code",
   "execution_count": null,
   "id": "27e9f4ea62c49f43",
   "metadata": {
    "ExecuteTime": {
     "end_time": "2024-04-04T03:44:31.998226300Z",
     "start_time": "2024-04-04T03:44:31.911924800Z"
    },
    "collapsed": false
   },
   "outputs": [],
   "source": [
    "df = pd.concat([df, dummies], axis = 1)"
   ]
  },
  {
   "cell_type": "code",
   "execution_count": null,
   "id": "879cff85135018fe",
   "metadata": {
    "ExecuteTime": {
     "end_time": "2024-04-04T03:44:36.115344700Z",
     "start_time": "2024-04-04T03:44:36.073540300Z"
    },
    "collapsed": false
   },
   "outputs": [
    {
     "data": {
      "text/plain": [
       "(100000, 31)"
      ]
     },
     "execution_count": 96,
     "metadata": {},
     "output_type": "execute_result"
    }
   ],
   "source": [
    "df.shape"
   ]
  },
  {
   "cell_type": "code",
   "execution_count": null,
   "id": "b0f6f0c662fea494",
   "metadata": {
    "ExecuteTime": {
     "end_time": "2024-04-04T03:44:40.777910800Z",
     "start_time": "2024-04-04T03:44:40.651766200Z"
    },
    "collapsed": false
   },
   "outputs": [],
   "source": [
    "df.drop(\"Type_of_Loan\",axis=1,inplace = True)"
   ]
  },
  {
   "cell_type": "code",
   "execution_count": null,
   "id": "6402951bacf9e43d",
   "metadata": {
    "ExecuteTime": {
     "end_time": "2024-04-04T03:44:45.040348800Z",
     "start_time": "2024-04-04T03:44:44.884001100Z"
    },
    "collapsed": false
   },
   "outputs": [
    {
     "data": {
      "text/plain": [
       "(100000, 30)"
      ]
     },
     "execution_count": 98,
     "metadata": {},
     "output_type": "execute_result"
    }
   ],
   "source": [
    "df.shape"
   ]
  },
  {
   "cell_type": "code",
   "execution_count": null,
   "id": "651d874d408d4ebe",
   "metadata": {
    "ExecuteTime": {
     "end_time": "2024-04-04T03:44:49.975780800Z",
     "start_time": "2024-04-04T03:44:49.641494800Z"
    },
    "collapsed": false
   },
   "outputs": [
    {
     "data": {
      "text/plain": [
       "Annual_Income                18940\n",
       "Monthly_Inhand_Salary        13235\n",
       "Num_Bank_Accounts              943\n",
       "Num_Credit_Card               1179\n",
       "Interest_Rate                 1750\n",
       "Num_of_Loan                    434\n",
       "Delay_from_due_date             73\n",
       "Num_of_Delayed_Payment         749\n",
       "Changed_Credit_Limit          4384\n",
       "Num_Credit_Inquiries          1223\n",
       "Credit_Mix                       4\n",
       "Outstanding_Debt             13178\n",
       "Credit_Utilization_Ratio    100000\n",
       "Credit_History_Age             404\n",
       "Payment_of_Min_Amount            3\n",
       "Total_EMI_per_month          14950\n",
       "Amount_invested_monthly      91049\n",
       "Payment_Behaviour                7\n",
       "Monthly_Balance              98792\n",
       "Credit_Score                     3\n",
       "Auto Loan                        2\n",
       "Credit-Builder Loan              2\n",
       "Debt Consolidation Loan          2\n",
       "Home Equity Loan                 2\n",
       "Mortgage Loan                    2\n",
       "Not Specified                    2\n",
       "Payday Loan                      2\n",
       "Personal Loan                    2\n",
       "Student Loan                     2\n",
       "nan                              2\n",
       "dtype: int64"
      ]
     },
     "execution_count": 99,
     "metadata": {},
     "output_type": "execute_result"
    }
   ],
   "source": [
    "df.nunique()"
   ]
  },
  {
   "cell_type": "code",
   "execution_count": null,
   "id": "e9d010441056a06",
   "metadata": {
    "ExecuteTime": {
     "end_time": "2024-04-04T03:45:06.803184100Z",
     "start_time": "2024-04-04T03:45:06.715952Z"
    },
    "collapsed": false
   },
   "outputs": [],
   "source": [
    "df.drop(\"nan\",axis=1,inplace=True)"
   ]
  },
  {
   "cell_type": "code",
   "execution_count": null,
   "id": "e7794d15eaaa2e30",
   "metadata": {
    "ExecuteTime": {
     "end_time": "2024-04-04T03:45:18.916382800Z",
     "start_time": "2024-04-04T03:45:18.748863Z"
    },
    "collapsed": false
   },
   "outputs": [
    {
     "name": "stdout",
     "output_type": "stream",
     "text": [
      "<class 'pandas.core.frame.DataFrame'>\n",
      "RangeIndex: 100000 entries, 0 to 99999\n",
      "Data columns (total 29 columns):\n",
      " #   Column                    Non-Null Count   Dtype  \n",
      "---  ------                    --------------   -----  \n",
      " 0   Annual_Income             100000 non-null  object \n",
      " 1   Monthly_Inhand_Salary     84998 non-null   float64\n",
      " 2   Num_Bank_Accounts         100000 non-null  int64  \n",
      " 3   Num_Credit_Card           100000 non-null  int64  \n",
      " 4   Interest_Rate             100000 non-null  int64  \n",
      " 5   Num_of_Loan               100000 non-null  object \n",
      " 6   Delay_from_due_date       100000 non-null  int64  \n",
      " 7   Num_of_Delayed_Payment    92998 non-null   object \n",
      " 8   Changed_Credit_Limit      100000 non-null  object \n",
      " 9   Num_Credit_Inquiries      98035 non-null   float64\n",
      " 10  Credit_Mix                100000 non-null  object \n",
      " 11  Outstanding_Debt          100000 non-null  object \n",
      " 12  Credit_Utilization_Ratio  100000 non-null  float64\n",
      " 13  Credit_History_Age        90970 non-null   object \n",
      " 14  Payment_of_Min_Amount     100000 non-null  object \n",
      " 15  Total_EMI_per_month       100000 non-null  float64\n",
      " 16  Amount_invested_monthly   95521 non-null   object \n",
      " 17  Payment_Behaviour         100000 non-null  object \n",
      " 18  Monthly_Balance           98800 non-null   object \n",
      " 19  Credit_Score              100000 non-null  object \n",
      " 20  Auto Loan                 100000 non-null  int64  \n",
      " 21  Credit-Builder Loan       100000 non-null  int64  \n",
      " 22  Debt Consolidation Loan   100000 non-null  int64  \n",
      " 23  Home Equity Loan          100000 non-null  int64  \n",
      " 24  Mortgage Loan             100000 non-null  int64  \n",
      " 25  Not Specified             100000 non-null  int64  \n",
      " 26  Payday Loan               100000 non-null  int64  \n",
      " 27  Personal Loan             100000 non-null  int64  \n",
      " 28  Student Loan              100000 non-null  int64  \n",
      "dtypes: float64(4), int64(13), object(12)\n",
      "memory usage: 22.1+ MB\n"
     ]
    }
   ],
   "source": [
    "df.info()"
   ]
  },
  {
   "cell_type": "code",
   "execution_count": null,
   "id": "ffa655f1703b3ef1",
   "metadata": {
    "ExecuteTime": {
     "end_time": "2024-04-04T03:45:30.237481300Z",
     "start_time": "2024-04-04T03:45:30.128102200Z"
    },
    "collapsed": false
   },
   "outputs": [
    {
     "data": {
      "text/plain": [
       "0"
      ]
     },
     "execution_count": 102,
     "metadata": {},
     "output_type": "execute_result"
    }
   ],
   "source": [
    "df[\"Credit_Mix\"].isna().sum()"
   ]
  },
  {
   "cell_type": "code",
   "execution_count": null,
   "id": "3feb09c7a1ce61f8",
   "metadata": {
    "ExecuteTime": {
     "end_time": "2024-04-04T03:45:35.105380Z",
     "start_time": "2024-04-04T03:45:35.008844800Z"
    },
    "collapsed": false
   },
   "outputs": [
    {
     "data": {
      "text/plain": [
       "7"
      ]
     },
     "execution_count": 103,
     "metadata": {},
     "output_type": "execute_result"
    }
   ],
   "source": [
    "df[\"Payment_Behaviour\"].nunique()"
   ]
  },
  {
   "cell_type": "code",
   "execution_count": null,
   "id": "c857141ed3c59d",
   "metadata": {
    "ExecuteTime": {
     "end_time": "2024-04-04T03:45:55.461687Z",
     "start_time": "2024-04-04T03:45:55.410832400Z"
    },
    "collapsed": false
   },
   "outputs": [
    {
     "data": {
      "text/html": [
       "<div>\n",
       "<style scoped>\n",
       "    .dataframe tbody tr th:only-of-type {\n",
       "        vertical-align: middle;\n",
       "    }\n",
       "\n",
       "    .dataframe tbody tr th {\n",
       "        vertical-align: top;\n",
       "    }\n",
       "\n",
       "    .dataframe thead th {\n",
       "        text-align: right;\n",
       "    }\n",
       "</style>\n",
       "<table border=\"1\" class=\"dataframe\">\n",
       "  <thead>\n",
       "    <tr style=\"text-align: right;\">\n",
       "      <th></th>\n",
       "      <th>Annual_Income</th>\n",
       "      <th>Monthly_Inhand_Salary</th>\n",
       "      <th>Num_Bank_Accounts</th>\n",
       "      <th>Num_Credit_Card</th>\n",
       "      <th>Interest_Rate</th>\n",
       "      <th>Num_of_Loan</th>\n",
       "      <th>Delay_from_due_date</th>\n",
       "      <th>Num_of_Delayed_Payment</th>\n",
       "      <th>Changed_Credit_Limit</th>\n",
       "      <th>Num_Credit_Inquiries</th>\n",
       "      <th>...</th>\n",
       "      <th>Credit_Score</th>\n",
       "      <th>Auto Loan</th>\n",
       "      <th>Credit-Builder Loan</th>\n",
       "      <th>Debt Consolidation Loan</th>\n",
       "      <th>Home Equity Loan</th>\n",
       "      <th>Mortgage Loan</th>\n",
       "      <th>Not Specified</th>\n",
       "      <th>Payday Loan</th>\n",
       "      <th>Personal Loan</th>\n",
       "      <th>Student Loan</th>\n",
       "    </tr>\n",
       "  </thead>\n",
       "  <tbody>\n",
       "    <tr>\n",
       "      <th>0</th>\n",
       "      <td>19114.12</td>\n",
       "      <td>1824.843333</td>\n",
       "      <td>3</td>\n",
       "      <td>4</td>\n",
       "      <td>3</td>\n",
       "      <td>4</td>\n",
       "      <td>3</td>\n",
       "      <td>7</td>\n",
       "      <td>11.27</td>\n",
       "      <td>4.0</td>\n",
       "      <td>...</td>\n",
       "      <td>Good</td>\n",
       "      <td>1</td>\n",
       "      <td>1</td>\n",
       "      <td>0</td>\n",
       "      <td>1</td>\n",
       "      <td>0</td>\n",
       "      <td>0</td>\n",
       "      <td>0</td>\n",
       "      <td>1</td>\n",
       "      <td>0</td>\n",
       "    </tr>\n",
       "    <tr>\n",
       "      <th>1</th>\n",
       "      <td>19114.12</td>\n",
       "      <td>NaN</td>\n",
       "      <td>3</td>\n",
       "      <td>4</td>\n",
       "      <td>3</td>\n",
       "      <td>4</td>\n",
       "      <td>-1</td>\n",
       "      <td>NaN</td>\n",
       "      <td>11.27</td>\n",
       "      <td>4.0</td>\n",
       "      <td>...</td>\n",
       "      <td>Good</td>\n",
       "      <td>1</td>\n",
       "      <td>1</td>\n",
       "      <td>0</td>\n",
       "      <td>1</td>\n",
       "      <td>0</td>\n",
       "      <td>0</td>\n",
       "      <td>0</td>\n",
       "      <td>1</td>\n",
       "      <td>0</td>\n",
       "    </tr>\n",
       "    <tr>\n",
       "      <th>2</th>\n",
       "      <td>19114.12</td>\n",
       "      <td>NaN</td>\n",
       "      <td>3</td>\n",
       "      <td>4</td>\n",
       "      <td>3</td>\n",
       "      <td>4</td>\n",
       "      <td>3</td>\n",
       "      <td>7</td>\n",
       "      <td>_</td>\n",
       "      <td>4.0</td>\n",
       "      <td>...</td>\n",
       "      <td>Good</td>\n",
       "      <td>1</td>\n",
       "      <td>1</td>\n",
       "      <td>0</td>\n",
       "      <td>1</td>\n",
       "      <td>0</td>\n",
       "      <td>0</td>\n",
       "      <td>0</td>\n",
       "      <td>1</td>\n",
       "      <td>0</td>\n",
       "    </tr>\n",
       "    <tr>\n",
       "      <th>3</th>\n",
       "      <td>19114.12</td>\n",
       "      <td>NaN</td>\n",
       "      <td>3</td>\n",
       "      <td>4</td>\n",
       "      <td>3</td>\n",
       "      <td>4</td>\n",
       "      <td>5</td>\n",
       "      <td>4</td>\n",
       "      <td>6.27</td>\n",
       "      <td>4.0</td>\n",
       "      <td>...</td>\n",
       "      <td>Good</td>\n",
       "      <td>1</td>\n",
       "      <td>1</td>\n",
       "      <td>0</td>\n",
       "      <td>1</td>\n",
       "      <td>0</td>\n",
       "      <td>0</td>\n",
       "      <td>0</td>\n",
       "      <td>1</td>\n",
       "      <td>0</td>\n",
       "    </tr>\n",
       "    <tr>\n",
       "      <th>4</th>\n",
       "      <td>19114.12</td>\n",
       "      <td>1824.843333</td>\n",
       "      <td>3</td>\n",
       "      <td>4</td>\n",
       "      <td>3</td>\n",
       "      <td>4</td>\n",
       "      <td>6</td>\n",
       "      <td>NaN</td>\n",
       "      <td>11.27</td>\n",
       "      <td>4.0</td>\n",
       "      <td>...</td>\n",
       "      <td>Good</td>\n",
       "      <td>1</td>\n",
       "      <td>1</td>\n",
       "      <td>0</td>\n",
       "      <td>1</td>\n",
       "      <td>0</td>\n",
       "      <td>0</td>\n",
       "      <td>0</td>\n",
       "      <td>1</td>\n",
       "      <td>0</td>\n",
       "    </tr>\n",
       "  </tbody>\n",
       "</table>\n",
       "<p>5 rows × 29 columns</p>\n",
       "</div>"
      ],
      "text/plain": [
       "  Annual_Income  Monthly_Inhand_Salary  Num_Bank_Accounts  Num_Credit_Card  \\\n",
       "0      19114.12            1824.843333                  3                4   \n",
       "1      19114.12                    NaN                  3                4   \n",
       "2      19114.12                    NaN                  3                4   \n",
       "3      19114.12                    NaN                  3                4   \n",
       "4      19114.12            1824.843333                  3                4   \n",
       "\n",
       "   Interest_Rate Num_of_Loan  Delay_from_due_date Num_of_Delayed_Payment  \\\n",
       "0              3           4                    3                      7   \n",
       "1              3           4                   -1                    NaN   \n",
       "2              3           4                    3                      7   \n",
       "3              3           4                    5                      4   \n",
       "4              3           4                    6                    NaN   \n",
       "\n",
       "  Changed_Credit_Limit  Num_Credit_Inquiries  ... Credit_Score Auto Loan  \\\n",
       "0                11.27                   4.0  ...         Good         1   \n",
       "1                11.27                   4.0  ...         Good         1   \n",
       "2                    _                   4.0  ...         Good         1   \n",
       "3                 6.27                   4.0  ...         Good         1   \n",
       "4                11.27                   4.0  ...         Good         1   \n",
       "\n",
       "   Credit-Builder Loan Debt Consolidation Loan Home Equity Loan  \\\n",
       "0                    1                       0                1   \n",
       "1                    1                       0                1   \n",
       "2                    1                       0                1   \n",
       "3                    1                       0                1   \n",
       "4                    1                       0                1   \n",
       "\n",
       "   Mortgage Loan Not Specified Payday Loan Personal Loan Student Loan  \n",
       "0              0             0           0             1            0  \n",
       "1              0             0           0             1            0  \n",
       "2              0             0           0             1            0  \n",
       "3              0             0           0             1            0  \n",
       "4              0             0           0             1            0  \n",
       "\n",
       "[5 rows x 29 columns]"
      ]
     },
     "execution_count": 104,
     "metadata": {},
     "output_type": "execute_result"
    }
   ],
   "source": [
    "df.head(5)"
   ]
  },
  {
   "cell_type": "code",
   "execution_count": null,
   "id": "e6b1d2a9c672f930",
   "metadata": {
    "ExecuteTime": {
     "end_time": "2024-04-04T03:46:03.370503500Z",
     "start_time": "2024-04-04T03:46:03.210658400Z"
    },
    "collapsed": false
   },
   "outputs": [
    {
     "name": "stdout",
     "output_type": "stream",
     "text": [
      "22 Years and 1 Months\n",
      "nan\n",
      "22 Years and 3 Months\n",
      "22 Years and 4 Months\n",
      "22 Years and 5 Months\n"
     ]
    }
   ],
   "source": [
    "for item in df[\"Credit_History_Age\"].head(5):\n",
    "    print(item)"
   ]
  },
  {
   "cell_type": "code",
   "execution_count": null,
   "id": "917572fc2789124a",
   "metadata": {
    "ExecuteTime": {
     "end_time": "2024-04-04T03:46:09.867392600Z",
     "start_time": "2024-04-04T03:46:09.708437800Z"
    },
    "collapsed": false
   },
   "outputs": [],
   "source": [
    "df[\"Credit_History_Age\"] = df[\"Credit_History_Age\"].apply(lambda x: float(x.split()[0]) + (float(x.split()[3])/12) if pd.notna(x) else x)"
   ]
  },
  {
   "cell_type": "code",
   "execution_count": null,
   "id": "bde3d2bdd4036a72",
   "metadata": {
    "ExecuteTime": {
     "end_time": "2024-04-04T03:46:14.914977Z",
     "start_time": "2024-04-04T03:46:14.788251200Z"
    },
    "collapsed": false
   },
   "outputs": [
    {
     "data": {
      "text/html": [
       "<div>\n",
       "<style scoped>\n",
       "    .dataframe tbody tr th:only-of-type {\n",
       "        vertical-align: middle;\n",
       "    }\n",
       "\n",
       "    .dataframe tbody tr th {\n",
       "        vertical-align: top;\n",
       "    }\n",
       "\n",
       "    .dataframe thead th {\n",
       "        text-align: right;\n",
       "    }\n",
       "</style>\n",
       "<table border=\"1\" class=\"dataframe\">\n",
       "  <thead>\n",
       "    <tr style=\"text-align: right;\">\n",
       "      <th></th>\n",
       "      <th>Annual_Income</th>\n",
       "      <th>Monthly_Inhand_Salary</th>\n",
       "      <th>Num_Bank_Accounts</th>\n",
       "      <th>Num_Credit_Card</th>\n",
       "      <th>Interest_Rate</th>\n",
       "      <th>Num_of_Loan</th>\n",
       "      <th>Delay_from_due_date</th>\n",
       "      <th>Num_of_Delayed_Payment</th>\n",
       "      <th>Changed_Credit_Limit</th>\n",
       "      <th>Num_Credit_Inquiries</th>\n",
       "      <th>...</th>\n",
       "      <th>Credit_Score</th>\n",
       "      <th>Auto Loan</th>\n",
       "      <th>Credit-Builder Loan</th>\n",
       "      <th>Debt Consolidation Loan</th>\n",
       "      <th>Home Equity Loan</th>\n",
       "      <th>Mortgage Loan</th>\n",
       "      <th>Not Specified</th>\n",
       "      <th>Payday Loan</th>\n",
       "      <th>Personal Loan</th>\n",
       "      <th>Student Loan</th>\n",
       "    </tr>\n",
       "  </thead>\n",
       "  <tbody>\n",
       "    <tr>\n",
       "      <th>0</th>\n",
       "      <td>19114.12</td>\n",
       "      <td>1824.843333</td>\n",
       "      <td>3</td>\n",
       "      <td>4</td>\n",
       "      <td>3</td>\n",
       "      <td>4</td>\n",
       "      <td>3</td>\n",
       "      <td>7</td>\n",
       "      <td>11.27</td>\n",
       "      <td>4.0</td>\n",
       "      <td>...</td>\n",
       "      <td>Good</td>\n",
       "      <td>1</td>\n",
       "      <td>1</td>\n",
       "      <td>0</td>\n",
       "      <td>1</td>\n",
       "      <td>0</td>\n",
       "      <td>0</td>\n",
       "      <td>0</td>\n",
       "      <td>1</td>\n",
       "      <td>0</td>\n",
       "    </tr>\n",
       "    <tr>\n",
       "      <th>1</th>\n",
       "      <td>19114.12</td>\n",
       "      <td>NaN</td>\n",
       "      <td>3</td>\n",
       "      <td>4</td>\n",
       "      <td>3</td>\n",
       "      <td>4</td>\n",
       "      <td>-1</td>\n",
       "      <td>NaN</td>\n",
       "      <td>11.27</td>\n",
       "      <td>4.0</td>\n",
       "      <td>...</td>\n",
       "      <td>Good</td>\n",
       "      <td>1</td>\n",
       "      <td>1</td>\n",
       "      <td>0</td>\n",
       "      <td>1</td>\n",
       "      <td>0</td>\n",
       "      <td>0</td>\n",
       "      <td>0</td>\n",
       "      <td>1</td>\n",
       "      <td>0</td>\n",
       "    </tr>\n",
       "    <tr>\n",
       "      <th>2</th>\n",
       "      <td>19114.12</td>\n",
       "      <td>NaN</td>\n",
       "      <td>3</td>\n",
       "      <td>4</td>\n",
       "      <td>3</td>\n",
       "      <td>4</td>\n",
       "      <td>3</td>\n",
       "      <td>7</td>\n",
       "      <td>_</td>\n",
       "      <td>4.0</td>\n",
       "      <td>...</td>\n",
       "      <td>Good</td>\n",
       "      <td>1</td>\n",
       "      <td>1</td>\n",
       "      <td>0</td>\n",
       "      <td>1</td>\n",
       "      <td>0</td>\n",
       "      <td>0</td>\n",
       "      <td>0</td>\n",
       "      <td>1</td>\n",
       "      <td>0</td>\n",
       "    </tr>\n",
       "    <tr>\n",
       "      <th>3</th>\n",
       "      <td>19114.12</td>\n",
       "      <td>NaN</td>\n",
       "      <td>3</td>\n",
       "      <td>4</td>\n",
       "      <td>3</td>\n",
       "      <td>4</td>\n",
       "      <td>5</td>\n",
       "      <td>4</td>\n",
       "      <td>6.27</td>\n",
       "      <td>4.0</td>\n",
       "      <td>...</td>\n",
       "      <td>Good</td>\n",
       "      <td>1</td>\n",
       "      <td>1</td>\n",
       "      <td>0</td>\n",
       "      <td>1</td>\n",
       "      <td>0</td>\n",
       "      <td>0</td>\n",
       "      <td>0</td>\n",
       "      <td>1</td>\n",
       "      <td>0</td>\n",
       "    </tr>\n",
       "    <tr>\n",
       "      <th>4</th>\n",
       "      <td>19114.12</td>\n",
       "      <td>1824.843333</td>\n",
       "      <td>3</td>\n",
       "      <td>4</td>\n",
       "      <td>3</td>\n",
       "      <td>4</td>\n",
       "      <td>6</td>\n",
       "      <td>NaN</td>\n",
       "      <td>11.27</td>\n",
       "      <td>4.0</td>\n",
       "      <td>...</td>\n",
       "      <td>Good</td>\n",
       "      <td>1</td>\n",
       "      <td>1</td>\n",
       "      <td>0</td>\n",
       "      <td>1</td>\n",
       "      <td>0</td>\n",
       "      <td>0</td>\n",
       "      <td>0</td>\n",
       "      <td>1</td>\n",
       "      <td>0</td>\n",
       "    </tr>\n",
       "  </tbody>\n",
       "</table>\n",
       "<p>5 rows × 29 columns</p>\n",
       "</div>"
      ],
      "text/plain": [
       "  Annual_Income  Monthly_Inhand_Salary  Num_Bank_Accounts  Num_Credit_Card  \\\n",
       "0      19114.12            1824.843333                  3                4   \n",
       "1      19114.12                    NaN                  3                4   \n",
       "2      19114.12                    NaN                  3                4   \n",
       "3      19114.12                    NaN                  3                4   \n",
       "4      19114.12            1824.843333                  3                4   \n",
       "\n",
       "   Interest_Rate Num_of_Loan  Delay_from_due_date Num_of_Delayed_Payment  \\\n",
       "0              3           4                    3                      7   \n",
       "1              3           4                   -1                    NaN   \n",
       "2              3           4                    3                      7   \n",
       "3              3           4                    5                      4   \n",
       "4              3           4                    6                    NaN   \n",
       "\n",
       "  Changed_Credit_Limit  Num_Credit_Inquiries  ... Credit_Score Auto Loan  \\\n",
       "0                11.27                   4.0  ...         Good         1   \n",
       "1                11.27                   4.0  ...         Good         1   \n",
       "2                    _                   4.0  ...         Good         1   \n",
       "3                 6.27                   4.0  ...         Good         1   \n",
       "4                11.27                   4.0  ...         Good         1   \n",
       "\n",
       "   Credit-Builder Loan  Debt Consolidation Loan Home Equity Loan  \\\n",
       "0                    1                        0                1   \n",
       "1                    1                        0                1   \n",
       "2                    1                        0                1   \n",
       "3                    1                        0                1   \n",
       "4                    1                        0                1   \n",
       "\n",
       "   Mortgage Loan Not Specified Payday Loan Personal Loan Student Loan  \n",
       "0              0             0           0             1            0  \n",
       "1              0             0           0             1            0  \n",
       "2              0             0           0             1            0  \n",
       "3              0             0           0             1            0  \n",
       "4              0             0           0             1            0  \n",
       "\n",
       "[5 rows x 29 columns]"
      ]
     },
     "execution_count": 107,
     "metadata": {},
     "output_type": "execute_result"
    }
   ],
   "source": [
    "df.head(5)"
   ]
  },
  {
   "cell_type": "code",
   "execution_count": null,
   "id": "56275590f0d86c86",
   "metadata": {
    "ExecuteTime": {
     "end_time": "2024-04-04T03:46:21.817851300Z",
     "start_time": "2024-04-04T03:46:21.707185900Z"
    },
    "collapsed": false
   },
   "outputs": [
    {
     "data": {
      "text/plain": [
       "0        22.083333\n",
       "1              NaN\n",
       "2        22.250000\n",
       "3        22.333333\n",
       "4        22.416667\n",
       "           ...    \n",
       "99995    31.500000\n",
       "99996    31.583333\n",
       "99997    31.666667\n",
       "99998    31.750000\n",
       "99999    31.833333\n",
       "Name: Credit_History_Age, Length: 100000, dtype: float64"
      ]
     },
     "execution_count": 108,
     "metadata": {},
     "output_type": "execute_result"
    }
   ],
   "source": [
    "df[\"Credit_History_Age\"]"
   ]
  },
  {
   "cell_type": "code",
   "execution_count": null,
   "id": "3c2f708c2904bfd6",
   "metadata": {
    "ExecuteTime": {
     "end_time": "2024-04-04T03:47:12.329523900Z",
     "start_time": "2024-04-04T03:47:12.264290Z"
    },
    "collapsed": false
   },
   "outputs": [
    {
     "data": {
      "text/plain": [
       "Annual_Income                object\n",
       "Monthly_Inhand_Salary       float64\n",
       "Num_Bank_Accounts             int64\n",
       "Num_Credit_Card               int64\n",
       "Interest_Rate                 int64\n",
       "Num_of_Loan                  object\n",
       "Delay_from_due_date           int64\n",
       "Num_of_Delayed_Payment       object\n",
       "Changed_Credit_Limit         object\n",
       "Num_Credit_Inquiries        float64\n",
       "Credit_Mix                   object\n",
       "Outstanding_Debt             object\n",
       "Credit_Utilization_Ratio    float64\n",
       "Credit_History_Age          float64\n",
       "Payment_of_Min_Amount        object\n",
       "Total_EMI_per_month         float64\n",
       "Amount_invested_monthly      object\n",
       "Payment_Behaviour            object\n",
       "Monthly_Balance              object\n",
       "Credit_Score                 object\n",
       "Auto Loan                     int64\n",
       "Credit-Builder Loan           int64\n",
       "Debt Consolidation Loan       int64\n",
       "Home Equity Loan              int64\n",
       "Mortgage Loan                 int64\n",
       "Not Specified                 int64\n",
       "Payday Loan                   int64\n",
       "Personal Loan                 int64\n",
       "Student Loan                  int64\n",
       "dtype: object"
      ]
     },
     "execution_count": 109,
     "metadata": {},
     "output_type": "execute_result"
    }
   ],
   "source": [
    "df.dtypes"
   ]
  },
  {
   "cell_type": "code",
   "execution_count": null,
   "id": "68c968b305a26dfa",
   "metadata": {
    "ExecuteTime": {
     "end_time": "2024-04-04T03:47:19.275664700Z",
     "start_time": "2024-04-04T03:47:19.211836400Z"
    },
    "collapsed": false
   },
   "outputs": [],
   "source": [
    "from sklearn.preprocessing import LabelEncoder\n",
    "encoder = LabelEncoder()"
   ]
  },
  {
   "cell_type": "code",
   "execution_count": null,
   "id": "83fc2fc3df47f685",
   "metadata": {
    "ExecuteTime": {
     "end_time": "2024-04-04T03:47:24.269146900Z",
     "start_time": "2024-04-04T03:47:24.189998800Z"
    },
    "collapsed": false
   },
   "outputs": [],
   "source": [
    "def encode_dataset(df):\n",
    "    for col_name in df.columns:\n",
    "        if df[col_name].dtypes == \"object\":\n",
    "            df[col_name] = encoder.fit_transform(df[col_name])"
   ]
  },
  {
   "cell_type": "code",
   "execution_count": null,
   "id": "94c4863266464eb3",
   "metadata": {
    "ExecuteTime": {
     "end_time": "2024-04-04T03:47:28.605164500Z",
     "start_time": "2024-04-04T03:47:28.572454500Z"
    },
    "collapsed": false
   },
   "outputs": [],
   "source": [
    "df[\"Payment_Behaviour\"] = encoder.fit_transform(df[\"Payment_Behaviour\"])"
   ]
  },
  {
   "cell_type": "code",
   "execution_count": null,
   "id": "52069bcd5c26cbc8",
   "metadata": {
    "ExecuteTime": {
     "end_time": "2024-04-04T03:47:32.729946400Z",
     "start_time": "2024-04-04T03:47:32.636196800Z"
    },
    "collapsed": false
   },
   "outputs": [],
   "source": [
    "df[\"Payment_of_Min_Amount\"] = encoder.fit_transform(df[\"Payment_of_Min_Amount\"])"
   ]
  },
  {
   "cell_type": "code",
   "execution_count": null,
   "id": "f8efc10479fed594",
   "metadata": {
    "ExecuteTime": {
     "end_time": "2024-04-04T03:47:36.872141500Z",
     "start_time": "2024-04-04T03:47:36.762765600Z"
    },
    "collapsed": false
   },
   "outputs": [
    {
     "data": {
      "text/plain": [
       "Annual_Income                object\n",
       "Monthly_Inhand_Salary       float64\n",
       "Num_Bank_Accounts             int64\n",
       "Num_Credit_Card               int64\n",
       "Interest_Rate                 int64\n",
       "Num_of_Loan                  object\n",
       "Delay_from_due_date           int64\n",
       "Num_of_Delayed_Payment       object\n",
       "Changed_Credit_Limit         object\n",
       "Num_Credit_Inquiries        float64\n",
       "Credit_Mix                   object\n",
       "Outstanding_Debt             object\n",
       "Credit_Utilization_Ratio    float64\n",
       "Credit_History_Age          float64\n",
       "Payment_of_Min_Amount         int32\n",
       "Total_EMI_per_month         float64\n",
       "Amount_invested_monthly      object\n",
       "Payment_Behaviour             int32\n",
       "Monthly_Balance              object\n",
       "Credit_Score                 object\n",
       "Auto Loan                     int64\n",
       "Credit-Builder Loan           int64\n",
       "Debt Consolidation Loan       int64\n",
       "Home Equity Loan              int64\n",
       "Mortgage Loan                 int64\n",
       "Not Specified                 int64\n",
       "Payday Loan                   int64\n",
       "Personal Loan                 int64\n",
       "Student Loan                  int64\n",
       "dtype: object"
      ]
     },
     "execution_count": 114,
     "metadata": {},
     "output_type": "execute_result"
    }
   ],
   "source": [
    "df.dtypes"
   ]
  },
  {
   "cell_type": "code",
   "execution_count": null,
   "id": "1231b1cb15022f58",
   "metadata": {
    "ExecuteTime": {
     "end_time": "2024-04-04T03:47:42.683182400Z",
     "start_time": "2024-04-04T03:47:42.408921500Z"
    },
    "collapsed": false
   },
   "outputs": [
    {
     "data": {
      "text/plain": [
       "Annual_Income                18940\n",
       "Monthly_Inhand_Salary        13235\n",
       "Num_Bank_Accounts              943\n",
       "Num_Credit_Card               1179\n",
       "Interest_Rate                 1750\n",
       "Num_of_Loan                    434\n",
       "Delay_from_due_date             73\n",
       "Num_of_Delayed_Payment         749\n",
       "Changed_Credit_Limit          4384\n",
       "Num_Credit_Inquiries          1223\n",
       "Credit_Mix                       4\n",
       "Outstanding_Debt             13178\n",
       "Credit_Utilization_Ratio    100000\n",
       "Credit_History_Age             404\n",
       "Payment_of_Min_Amount            3\n",
       "Total_EMI_per_month          14950\n",
       "Amount_invested_monthly      91049\n",
       "Payment_Behaviour                7\n",
       "Monthly_Balance              98792\n",
       "Credit_Score                     3\n",
       "Auto Loan                        2\n",
       "Credit-Builder Loan              2\n",
       "Debt Consolidation Loan          2\n",
       "Home Equity Loan                 2\n",
       "Mortgage Loan                    2\n",
       "Not Specified                    2\n",
       "Payday Loan                      2\n",
       "Personal Loan                    2\n",
       "Student Loan                     2\n",
       "dtype: int64"
      ]
     },
     "execution_count": 115,
     "metadata": {},
     "output_type": "execute_result"
    }
   ],
   "source": [
    "df.nunique()"
   ]
  },
  {
   "cell_type": "code",
   "execution_count": null,
   "id": "748617a42c74ead9",
   "metadata": {
    "ExecuteTime": {
     "end_time": "2024-04-04T03:47:50.219806400Z",
     "start_time": "2024-04-04T03:47:50.078324100Z"
    },
    "collapsed": false
   },
   "outputs": [
    {
     "data": {
      "text/plain": [
       "0          7\n",
       "1        NaN\n",
       "2          7\n",
       "3          4\n",
       "4        NaN\n",
       "        ... \n",
       "99995      7\n",
       "99996      7\n",
       "99997      6\n",
       "99998    NaN\n",
       "99999      6\n",
       "Name: Num_of_Delayed_Payment, Length: 100000, dtype: object"
      ]
     },
     "execution_count": 116,
     "metadata": {},
     "output_type": "execute_result"
    }
   ],
   "source": [
    "df[\"Num_of_Delayed_Payment\"]"
   ]
  },
  {
   "cell_type": "code",
   "execution_count": null,
   "id": "a66ef12e3627100b",
   "metadata": {
    "ExecuteTime": {
     "end_time": "2024-04-04T03:47:57.871602200Z",
     "start_time": "2024-04-04T03:47:57.777840100Z"
    },
    "collapsed": false
   },
   "outputs": [
    {
     "data": {
      "text/plain": [
       "Annual_Income                object\n",
       "Monthly_Inhand_Salary       float64\n",
       "Num_Bank_Accounts             int64\n",
       "Num_Credit_Card               int64\n",
       "Interest_Rate                 int64\n",
       "Num_of_Loan                  object\n",
       "Delay_from_due_date           int64\n",
       "Num_of_Delayed_Payment       object\n",
       "Changed_Credit_Limit         object\n",
       "Num_Credit_Inquiries        float64\n",
       "Credit_Mix                   object\n",
       "Outstanding_Debt             object\n",
       "Credit_Utilization_Ratio    float64\n",
       "Credit_History_Age          float64\n",
       "Payment_of_Min_Amount         int32\n",
       "Total_EMI_per_month         float64\n",
       "Amount_invested_monthly      object\n",
       "Payment_Behaviour             int32\n",
       "Monthly_Balance              object\n",
       "Credit_Score                 object\n",
       "Auto Loan                     int64\n",
       "Credit-Builder Loan           int64\n",
       "Debt Consolidation Loan       int64\n",
       "Home Equity Loan              int64\n",
       "Mortgage Loan                 int64\n",
       "Not Specified                 int64\n",
       "Payday Loan                   int64\n",
       "Personal Loan                 int64\n",
       "Student Loan                  int64\n",
       "dtype: object"
      ]
     },
     "execution_count": 117,
     "metadata": {},
     "output_type": "execute_result"
    }
   ],
   "source": [
    "df.dtypes"
   ]
  },
  {
   "cell_type": "code",
   "execution_count": null,
   "id": "82a67e57bb5bf23a",
   "metadata": {
    "ExecuteTime": {
     "end_time": "2024-04-04T03:48:16.551384900Z",
     "start_time": "2024-04-04T03:48:15.679814100Z"
    },
    "collapsed": false
   },
   "outputs": [],
   "source": [
    "for col_name in df.columns:\n",
    "    if df[col_name].dtypes == \"object\" and col_name != \"Credit_Mix\":\n",
    "        df[col_name] = df[col_name].str.replace(\"_\",\"\")\n",
    "        df[col_name] = pd.to_numeric(df[col_name],errors='coerce')"
   ]
  },
  {
   "cell_type": "code",
   "execution_count": null,
   "id": "2a1b6b362342a12d",
   "metadata": {
    "ExecuteTime": {
     "end_time": "2024-04-04T03:48:21.923254800Z",
     "start_time": "2024-04-04T03:48:21.863966600Z"
    },
    "collapsed": false
   },
   "outputs": [
    {
     "data": {
      "text/plain": [
       "Annual_Income               float64\n",
       "Monthly_Inhand_Salary       float64\n",
       "Num_Bank_Accounts             int64\n",
       "Num_Credit_Card               int64\n",
       "Interest_Rate                 int64\n",
       "Num_of_Loan                   int64\n",
       "Delay_from_due_date           int64\n",
       "Num_of_Delayed_Payment      float64\n",
       "Changed_Credit_Limit        float64\n",
       "Num_Credit_Inquiries        float64\n",
       "Credit_Mix                   object\n",
       "Outstanding_Debt            float64\n",
       "Credit_Utilization_Ratio    float64\n",
       "Credit_History_Age          float64\n",
       "Payment_of_Min_Amount         int32\n",
       "Total_EMI_per_month         float64\n",
       "Amount_invested_monthly     float64\n",
       "Payment_Behaviour             int32\n",
       "Monthly_Balance             float64\n",
       "Credit_Score                float64\n",
       "Auto Loan                     int64\n",
       "Credit-Builder Loan           int64\n",
       "Debt Consolidation Loan       int64\n",
       "Home Equity Loan              int64\n",
       "Mortgage Loan                 int64\n",
       "Not Specified                 int64\n",
       "Payday Loan                   int64\n",
       "Personal Loan                 int64\n",
       "Student Loan                  int64\n",
       "dtype: object"
      ]
     },
     "execution_count": 119,
     "metadata": {},
     "output_type": "execute_result"
    }
   ],
   "source": [
    "df.dtypes"
   ]
  },
  {
   "cell_type": "code",
   "execution_count": null,
   "id": "5b8daadf267a1fd8",
   "metadata": {
    "ExecuteTime": {
     "end_time": "2024-04-04T03:48:27.963425900Z",
     "start_time": "2024-04-04T03:48:27.852032Z"
    },
    "collapsed": false
   },
   "outputs": [
    {
     "data": {
      "text/plain": [
       "Annual_Income                    0\n",
       "Monthly_Inhand_Salary        15002\n",
       "Num_Bank_Accounts                0\n",
       "Num_Credit_Card                  0\n",
       "Interest_Rate                    0\n",
       "Num_of_Loan                      0\n",
       "Delay_from_due_date              0\n",
       "Num_of_Delayed_Payment        7002\n",
       "Changed_Credit_Limit          2091\n",
       "Num_Credit_Inquiries          1965\n",
       "Credit_Mix                       0\n",
       "Outstanding_Debt                 0\n",
       "Credit_Utilization_Ratio         0\n",
       "Credit_History_Age            9030\n",
       "Payment_of_Min_Amount            0\n",
       "Total_EMI_per_month              0\n",
       "Amount_invested_monthly       4479\n",
       "Payment_Behaviour                0\n",
       "Monthly_Balance               2868\n",
       "Credit_Score                100000\n",
       "Auto Loan                        0\n",
       "Credit-Builder Loan              0\n",
       "Debt Consolidation Loan          0\n",
       "Home Equity Loan                 0\n",
       "Mortgage Loan                    0\n",
       "Not Specified                    0\n",
       "Payday Loan                      0\n",
       "Personal Loan                    0\n",
       "Student Loan                     0\n",
       "dtype: int64"
      ]
     },
     "execution_count": 120,
     "metadata": {},
     "output_type": "execute_result"
    }
   ],
   "source": [
    "df.isna().sum()"
   ]
  },
  {
   "cell_type": "code",
   "execution_count": null,
   "id": "e7788fa44286e573",
   "metadata": {
    "ExecuteTime": {
     "end_time": "2024-04-04T03:48:33.295998100Z",
     "start_time": "2024-04-04T03:48:33.178320800Z"
    },
    "collapsed": false
   },
   "outputs": [
    {
     "data": {
      "text/plain": [
       "Annual_Income                13487\n",
       "Monthly_Inhand_Salary        13235\n",
       "Num_Bank_Accounts              943\n",
       "Num_Credit_Card               1179\n",
       "Interest_Rate                 1750\n",
       "Num_of_Loan                    414\n",
       "Delay_from_due_date             73\n",
       "Num_of_Delayed_Payment         711\n",
       "Changed_Credit_Limit          4375\n",
       "Num_Credit_Inquiries          1223\n",
       "Credit_Mix                       4\n",
       "Outstanding_Debt             12203\n",
       "Credit_Utilization_Ratio    100000\n",
       "Credit_History_Age             404\n",
       "Payment_of_Min_Amount            3\n",
       "Total_EMI_per_month          14950\n",
       "Amount_invested_monthly      91049\n",
       "Payment_Behaviour                7\n",
       "Monthly_Balance              97124\n",
       "Credit_Score                     0\n",
       "Auto Loan                        2\n",
       "Credit-Builder Loan              2\n",
       "Debt Consolidation Loan          2\n",
       "Home Equity Loan                 2\n",
       "Mortgage Loan                    2\n",
       "Not Specified                    2\n",
       "Payday Loan                      2\n",
       "Personal Loan                    2\n",
       "Student Loan                     2\n",
       "dtype: int64"
      ]
     },
     "execution_count": 121,
     "metadata": {},
     "output_type": "execute_result"
    }
   ],
   "source": [
    "df.nunique()"
   ]
  },
  {
   "cell_type": "code",
   "execution_count": null,
   "id": "e8ccf2dee66bf5d2",
   "metadata": {
    "ExecuteTime": {
     "end_time": "2024-04-04T03:48:40.323142800Z",
     "start_time": "2024-04-04T03:48:40.160848700Z"
    },
    "collapsed": false
   },
   "outputs": [],
   "source": [
    "for col_name in df.columns:\n",
    "    if df[col_name].isna().sum() > 0 and df[col_name].nunique()>7:\n",
    "        df[col_name] = df[col_name].fillna(df[col_name].mean())\n",
    "    elif df[col_name].isna().sum() > 0 and df[col_name].nunique()<=7:\n",
    "        df[col_name] = df[col_name].fillna(df[col_name].mode())"
   ]
  },
  {
   "cell_type": "code",
   "execution_count": null,
   "id": "a06f5ae7573eee2a",
   "metadata": {
    "ExecuteTime": {
     "end_time": "2024-04-04T03:48:48.497281100Z",
     "start_time": "2024-04-04T03:48:48.426297300Z"
    },
    "collapsed": false
   },
   "outputs": [
    {
     "data": {
      "text/plain": [
       "Annual_Income                    0\n",
       "Monthly_Inhand_Salary            0\n",
       "Num_Bank_Accounts                0\n",
       "Num_Credit_Card                  0\n",
       "Interest_Rate                    0\n",
       "Num_of_Loan                      0\n",
       "Delay_from_due_date              0\n",
       "Num_of_Delayed_Payment           0\n",
       "Changed_Credit_Limit             0\n",
       "Num_Credit_Inquiries             0\n",
       "Credit_Mix                       0\n",
       "Outstanding_Debt                 0\n",
       "Credit_Utilization_Ratio         0\n",
       "Credit_History_Age               0\n",
       "Payment_of_Min_Amount            0\n",
       "Total_EMI_per_month              0\n",
       "Amount_invested_monthly          0\n",
       "Payment_Behaviour                0\n",
       "Monthly_Balance                  0\n",
       "Credit_Score                100000\n",
       "Auto Loan                        0\n",
       "Credit-Builder Loan              0\n",
       "Debt Consolidation Loan          0\n",
       "Home Equity Loan                 0\n",
       "Mortgage Loan                    0\n",
       "Not Specified                    0\n",
       "Payday Loan                      0\n",
       "Personal Loan                    0\n",
       "Student Loan                     0\n",
       "dtype: int64"
      ]
     },
     "execution_count": 123,
     "metadata": {},
     "output_type": "execute_result"
    }
   ],
   "source": [
    "df.isna().sum()"
   ]
  },
  {
   "cell_type": "code",
   "execution_count": null,
   "id": "1eab02efa63ba964",
   "metadata": {
    "ExecuteTime": {
     "end_time": "2024-04-04T03:48:56.595005400Z",
     "start_time": "2024-04-04T03:48:56.438756400Z"
    },
    "collapsed": false
   },
   "outputs": [
    {
     "data": {
      "text/plain": [
       "0           _\n",
       "1        Good\n",
       "2        Good\n",
       "3        Good\n",
       "4        Good\n",
       "         ... \n",
       "99995       _\n",
       "99996       _\n",
       "99997    Good\n",
       "99998    Good\n",
       "99999    Good\n",
       "Name: Credit_Mix, Length: 100000, dtype: object"
      ]
     },
     "execution_count": 124,
     "metadata": {},
     "output_type": "execute_result"
    }
   ],
   "source": [
    "df[\"Credit_Mix\"]"
   ]
  },
  {
   "cell_type": "code",
   "execution_count": null,
   "id": "b7e7ac926937edc0",
   "metadata": {
    "ExecuteTime": {
     "end_time": "2024-04-04T03:49:11.103601300Z",
     "start_time": "2024-04-04T03:49:10.927958200Z"
    },
    "collapsed": false
   },
   "outputs": [],
   "source": [
    "df_test = df[df[\"Credit_Mix\"] == \"_\"]"
   ]
  },
  {
   "cell_type": "code",
   "execution_count": null,
   "id": "c7fd9fb119f8c1ec",
   "metadata": {
    "ExecuteTime": {
     "end_time": "2024-04-04T03:49:15.634919200Z",
     "start_time": "2024-04-04T03:49:15.521347400Z"
    },
    "collapsed": false
   },
   "outputs": [],
   "source": [
    "df.drop(df[df[\"Credit_Mix\"] == \"_\"].index,inplace=True)"
   ]
  },
  {
   "cell_type": "code",
   "execution_count": null,
   "id": "6c9572ab5fd723e6",
   "metadata": {
    "ExecuteTime": {
     "end_time": "2024-04-04T03:49:20.092149300Z",
     "start_time": "2024-04-04T03:49:20.045274800Z"
    },
    "collapsed": false
   },
   "outputs": [
    {
     "data": {
      "text/plain": [
       "Annual_Income               float64\n",
       "Monthly_Inhand_Salary       float64\n",
       "Num_Bank_Accounts             int64\n",
       "Num_Credit_Card               int64\n",
       "Interest_Rate                 int64\n",
       "Num_of_Loan                   int64\n",
       "Delay_from_due_date           int64\n",
       "Num_of_Delayed_Payment      float64\n",
       "Changed_Credit_Limit        float64\n",
       "Num_Credit_Inquiries        float64\n",
       "Credit_Mix                   object\n",
       "Outstanding_Debt            float64\n",
       "Credit_Utilization_Ratio    float64\n",
       "Credit_History_Age          float64\n",
       "Payment_of_Min_Amount         int32\n",
       "Total_EMI_per_month         float64\n",
       "Amount_invested_monthly     float64\n",
       "Payment_Behaviour             int32\n",
       "Monthly_Balance             float64\n",
       "Credit_Score                float64\n",
       "Auto Loan                     int64\n",
       "Credit-Builder Loan           int64\n",
       "Debt Consolidation Loan       int64\n",
       "Home Equity Loan              int64\n",
       "Mortgage Loan                 int64\n",
       "Not Specified                 int64\n",
       "Payday Loan                   int64\n",
       "Personal Loan                 int64\n",
       "Student Loan                  int64\n",
       "dtype: object"
      ]
     },
     "execution_count": 127,
     "metadata": {},
     "output_type": "execute_result"
    }
   ],
   "source": [
    "df.dtypes"
   ]
  },
  {
   "cell_type": "code",
   "execution_count": null,
   "id": "ccdd8c8d1d578879",
   "metadata": {
    "ExecuteTime": {
     "end_time": "2024-04-04T03:49:26.097687800Z",
     "start_time": "2024-04-04T03:49:26.003951Z"
    },
    "collapsed": false
   },
   "outputs": [
    {
     "data": {
      "text/plain": [
       "array(['Good', 'Standard', 'Bad'], dtype=object)"
      ]
     },
     "execution_count": 128,
     "metadata": {},
     "output_type": "execute_result"
    }
   ],
   "source": [
    "df[\"Credit_Mix\"].unique()"
   ]
  },
  {
   "cell_type": "code",
   "execution_count": null,
   "id": "8c8d7a852dceaafe",
   "metadata": {
    "ExecuteTime": {
     "end_time": "2024-04-04T03:49:31.588726500Z",
     "start_time": "2024-04-04T03:49:31.463717300Z"
    },
    "collapsed": false
   },
   "outputs": [],
   "source": [
    "df[\"Credit_Mix\"]= encoder.fit_transform(df[\"Credit_Mix\"])"
   ]
  },
  {
   "cell_type": "code",
   "execution_count": null,
   "id": "21c6aebceecd03b1",
   "metadata": {
    "ExecuteTime": {
     "end_time": "2024-04-04T03:49:44.368228400Z",
     "start_time": "2024-04-04T03:49:44.193624400Z"
    },
    "collapsed": false
   },
   "outputs": [
    {
     "data": {
      "text/plain": [
       "array([1, 2, 0])"
      ]
     },
     "execution_count": 130,
     "metadata": {},
     "output_type": "execute_result"
    }
   ],
   "source": [
    "df[\"Credit_Mix\"].unique()"
   ]
  },
  {
   "cell_type": "code",
   "execution_count": null,
   "id": "2be9acc0ef09152",
   "metadata": {
    "ExecuteTime": {
     "end_time": "2024-04-04T03:50:16.147122800Z",
     "start_time": "2024-04-04T03:50:03.003705200Z"
    },
    "collapsed": false
   },
   "outputs": [
    {
     "data": {
      "image/png": "[encoded data removed]",
      "text/plain": [
       "<Figure size 2000x1500 with 30 Axes>"
      ]
     },
     "metadata": {},
     "output_type": "display_data"
    }
   ],
   "source": [
    "df.hist(bins=50, figsize = [20,15])\n",
    "plt.show()"
   ]
  },
  {
   "cell_type": "code",
   "execution_count": null,
   "id": "2fc14f84baecf095",
   "metadata": {
    "ExecuteTime": {
     "end_time": "2024-04-04T03:50:17.716655700Z",
     "start_time": "2024-04-04T03:50:17.269470300Z"
    },
    "collapsed": false
   },
   "outputs": [
    {
     "data": {
      "text/plain": [
       "<Axes: >"
      ]
     },
     "execution_count": 132,
     "metadata": {},
     "output_type": "execute_result"
    },
    {
     "data": {
      "image/png": "[encoded data removed]",
      "text/plain": [
       "<Figure size 640x480 with 1 Axes>"
      ]
     },
     "metadata": {},
     "output_type": "display_data"
    }
   ],
   "source": [
    "df[\"Monthly_Inhand_Salary\"].hist()"
   ]
  },
  {
   "cell_type": "code",
   "execution_count": null,
   "id": "ded43bb2d5f977a1",
   "metadata": {
    "ExecuteTime": {
     "end_time": "2024-04-04T03:50:51.459390400Z",
     "start_time": "2024-04-04T03:50:51.047868100Z"
    },
    "collapsed": false
   },
   "outputs": [
    {
     "data": {
      "text/plain": [
       "<Axes: >"
      ]
     },
     "execution_count": 133,
     "metadata": {},
     "output_type": "execute_result"
    },
    {
     "data": {
      "image/png": "[encoded data removed]",
      "text/plain": [
       "<Figure size 640x480 with 1 Axes>"
      ]
     },
     "metadata": {},
     "output_type": "display_data"
    }
   ],
   "source": [
    "df[\"Credit_History_Age\"].hist()"
   ]
  },
  {
   "cell_type": "code",
   "execution_count": null,
   "id": "f6f6acd787f26e69",
   "metadata": {
    "ExecuteTime": {
     "end_time": "2024-04-04T03:51:09.721736300Z",
     "start_time": "2024-04-04T03:51:08.940807800Z"
    },
    "collapsed": false
   },
   "outputs": [
    {
     "data": {
      "text/plain": [
       "<Axes: ylabel='Credit_History_Age'>"
      ]
     },
     "execution_count": 134,
     "metadata": {},
     "output_type": "execute_result"
    },
    {
     "data": {
      "image/png": "[encoded data removed]",
      "text/plain": [
       "<Figure size 640x480 with 1 Axes>"
      ]
     },
     "metadata": {},
     "output_type": "display_data"
    }
   ],
   "source": [
    "sns.boxplot(df[\"Credit_History_Age\"])"
   ]
  },
  {
   "cell_type": "code",
   "execution_count": null,
   "id": "2500752867e4e50",
   "metadata": {
    "ExecuteTime": {
     "end_time": "2024-04-04T03:51:11.325183800Z",
     "start_time": "2024-04-04T03:51:10.762526100Z"
    },
    "collapsed": false
   },
   "outputs": [
    {
     "data": {
      "text/plain": [
       "<Axes: ylabel='Monthly_Inhand_Salary'>"
      ]
     },
     "execution_count": 135,
     "metadata": {},
     "output_type": "execute_result"
    },
    {
     "data": {
      "image/png": "[encoded data removed]",
      "text/plain": [
       "<Figure size 640x480 with 1 Axes>"
      ]
     },
     "metadata": {},
     "output_type": "display_data"
    }
   ],
   "source": [
    "sns.boxplot(df[\"Monthly_Inhand_Salary\"])"
   ]
  },
  {
   "cell_type": "code",
   "execution_count": null,
   "id": "b585fd2569d9b895",
   "metadata": {
    "ExecuteTime": {
     "end_time": "2024-04-04T03:51:19.814721900Z",
     "start_time": "2024-04-04T03:51:19.412997300Z"
    },
    "collapsed": false
   },
   "outputs": [
    {
     "data": {
      "text/plain": [
       "<Axes: >"
      ]
     },
     "execution_count": 136,
     "metadata": {},
     "output_type": "execute_result"
    },
    {
     "data": {
      "image/png": "[encoded data removed]",
      "text/plain": [
       "<Figure size 640x480 with 1 Axes>"
      ]
     },
     "metadata": {},
     "output_type": "display_data"
    }
   ],
   "source": [
    "df[df[\"Credit_Mix\"]!= \"_\"][\"Credit_Mix\"].hist()"
   ]
  },
  {
   "cell_type": "code",
   "execution_count": null,
   "id": "42f4d3fc4b7d55b0",
   "metadata": {
    "ExecuteTime": {
     "end_time": "2024-04-04T03:51:31.207086200Z",
     "start_time": "2024-04-04T03:51:31.009891800Z"
    },
    "collapsed": false
   },
   "outputs": [],
   "source": [
    "from sklearn.preprocessing import StandardScaler"
   ]
  },
  {
   "cell_type": "code",
   "execution_count": null,
   "id": "55b3a841184a39b3",
   "metadata": {
    "ExecuteTime": {
     "end_time": "2024-04-04T03:51:35.179238400Z",
     "start_time": "2024-04-04T03:51:35.041656Z"
    },
    "collapsed": false
   },
   "outputs": [],
   "source": [
    "scaler = StandardScaler()"
   ]
  },
  {
   "cell_type": "code",
   "execution_count": null,
   "id": "e0ab34856333b358",
   "metadata": {
    "ExecuteTime": {
     "end_time": "2024-04-04T03:51:40.213262Z",
     "start_time": "2024-04-04T03:51:40.064359900Z"
    },
    "collapsed": false
   },
   "outputs": [],
   "source": [
    "for col_name in df.columns:\n",
    "    if df[col_name].dtypes == \"float64\":\n",
    "        df[col_name] = scaler.fit_transform(df[[col_name]])"
   ]
  },
  {
   "cell_type": "code",
   "execution_count": null,
   "id": "b03cf8e5-bcc9-489c-bdef-5daa67ac66f4",
   "metadata": {
    "ExecuteTime": {
     "end_time": "2024-04-04T04:01:46.842926300Z",
     "start_time": "2024-04-04T04:01:46.658020500Z"
    }
   },
   "outputs": [
    {
     "data": {
      "text/plain": [
       "Annual_Income                 0.0\n",
       "Monthly_Inhand_Salary         0.0\n",
       "Num_Bank_Accounts             0.0\n",
       "Num_Credit_Card               0.0\n",
       "Interest_Rate                 0.0\n",
       "Num_of_Loan                   0.0\n",
       "Delay_from_due_date           0.0\n",
       "Num_of_Delayed_Payment        0.0\n",
       "Changed_Credit_Limit          0.0\n",
       "Num_Credit_Inquiries          0.0\n",
       "Credit_Mix                    0.0\n",
       "Outstanding_Debt              0.0\n",
       "Credit_Utilization_Ratio      0.0\n",
       "Credit_History_Age            0.0\n",
       "Payment_of_Min_Amount         0.0\n",
       "Total_EMI_per_month           0.0\n",
       "Amount_invested_monthly       0.0\n",
       "Payment_Behaviour             0.0\n",
       "Monthly_Balance               0.0\n",
       "Credit_Score                100.0\n",
       "Auto Loan                     0.0\n",
       "Credit-Builder Loan           0.0\n",
       "Debt Consolidation Loan       0.0\n",
       "Home Equity Loan              0.0\n",
       "Mortgage Loan                 0.0\n",
       "Not Specified                 0.0\n",
       "Payday Loan                   0.0\n",
       "Personal Loan                 0.0\n",
       "Student Loan                  0.0\n",
       "dtype: float64"
      ]
     },
     "execution_count": 140,
     "metadata": {},
     "output_type": "execute_result"
    }
   ],
   "source": [
    "# Обучение модели логистической регресси\n",
    "from sklearn.model_selection import train_test_split\n",
    "\n",
    "# Logistic Regression\n",
    "from sklearn.linear_model import LogisticRegression\n",
    "df.isna().mean() * 100"
   ]
  },
  {
   "cell_type": "code",
   "execution_count": null,
   "id": "fc51049b7fc80201",
   "metadata": {
    "ExecuteTime": {
     "end_time": "2024-04-04T04:02:08.480844500Z",
     "start_time": "2024-04-04T04:02:08.336374900Z"
    },
    "collapsed": false
   },
   "outputs": [],
   "source": [
    "df = df.drop(\"Credit_Score\", axis=1)\n",
    "X_train, X_test, y_train, y_test = train_test_split(df.drop(\"Credit_Mix\",axis=1), df[\"Credit_Mix\"], test_size=0.2, random_state=42)"
   ]
  },
  {
   "cell_type": "code",
   "execution_count": null,
   "id": "83aac81928d82804",
   "metadata": {
    "ExecuteTime": {
     "end_time": "2024-04-04T04:02:11.366162400Z",
     "start_time": "2024-04-04T04:02:09.035319300Z"
    },
    "collapsed": false
   },
   "outputs": [
    {
     "data": {
      "text/html": [
       "<style>#sk-container-id-2 {color: black;}#sk-container-id-2 pre{padding: 0;}#sk-container-id-2 div.sk-toggleable {background-color: white;}#sk-container-id-2 label.sk-toggleable__label {cursor: pointer;display: block;width: 100%;margin-bottom: 0;padding: 0.3em;box-sizing: border-box;text-align: center;}#sk-container-id-2 label.sk-toggleable__label-arrow:before {content: \"▸\";float: left;margin-right: 0.25em;color: #696969;}#sk-container-id-2 label.sk-toggleable__label-arrow:hover:before {color: black;}#sk-container-id-2 div.sk-estimator:hover label.sk-toggleable__label-arrow:before {color: black;}#sk-container-id-2 div.sk-toggleable__content {max-height: 0;max-width: 0;overflow: hidden;text-align: left;background-color: #f0f8ff;}#sk-container-id-2 div.sk-toggleable__content pre {margin: 0.2em;color: black;border-radius: 0.25em;background-color: #f0f8ff;}#sk-container-id-2 input.sk-toggleable__control:checked~div.sk-toggleable__content {max-height: 200px;max-width: 100%;overflow: auto;}#sk-container-id-2 input.sk-toggleable__control:checked~label.sk-toggleable__label-arrow:before {content: \"▾\";}#sk-container-id-2 div.sk-estimator input.sk-toggleable__control:checked~label.sk-toggleable__label {background-color: #d4ebff;}#sk-container-id-2 div.sk-label input.sk-toggleable__control:checked~label.sk-toggleable__label {background-color: #d4ebff;}#sk-container-id-2 input.sk-hidden--visually {border: 0;clip: rect(1px 1px 1px 1px);clip: rect(1px, 1px, 1px, 1px);height: 1px;margin: -1px;overflow: hidden;padding: 0;position: absolute;width: 1px;}#sk-container-id-2 div.sk-estimator {font-family: monospace;background-color: #f0f8ff;border: 1px dotted black;border-radius: 0.25em;box-sizing: border-box;margin-bottom: 0.5em;}#sk-container-id-2 div.sk-estimator:hover {background-color: #d4ebff;}#sk-container-id-2 div.sk-parallel-item::after {content: \"\";width: 100%;border-bottom: 1px solid gray;flex-grow: 1;}#sk-container-id-2 div.sk-label:hover label.sk-toggleable__label {background-color: #d4ebff;}#sk-container-id-2 div.sk-serial::before {content: \"\";position: absolute;border-left: 1px solid gray;box-sizing: border-box;top: 0;bottom: 0;left: 50%;z-index: 0;}#sk-container-id-2 div.sk-serial {display: flex;flex-direction: column;align-items: center;background-color: white;padding-right: 0.2em;padding-left: 0.2em;position: relative;}#sk-container-id-2 div.sk-item {position: relative;z-index: 1;}#sk-container-id-2 div.sk-parallel {display: flex;align-items: stretch;justify-content: center;background-color: white;position: relative;}#sk-container-id-2 div.sk-item::before, #sk-container-id-2 div.sk-parallel-item::before {content: \"\";position: absolute;border-left: 1px solid gray;box-sizing: border-box;top: 0;bottom: 0;left: 50%;z-index: -1;}#sk-container-id-2 div.sk-parallel-item {display: flex;flex-direction: column;z-index: 1;position: relative;background-color: white;}#sk-container-id-2 div.sk-parallel-item:first-child::after {align-self: flex-end;width: 50%;}#sk-container-id-2 div.sk-parallel-item:last-child::after {align-self: flex-start;width: 50%;}#sk-container-id-2 div.sk-parallel-item:only-child::after {width: 0;}#sk-container-id-2 div.sk-dashed-wrapped {border: 1px dashed gray;margin: 0 0.4em 0.5em 0.4em;box-sizing: border-box;padding-bottom: 0.4em;background-color: white;}#sk-container-id-2 div.sk-label label {font-family: monospace;font-weight: bold;display: inline-block;line-height: 1.2em;}#sk-container-id-2 div.sk-label-container {text-align: center;}#sk-container-id-2 div.sk-container {/* jupyter's `normalize.less` sets `[hidden] { display: none; }` but bootstrap.min.css set `[hidden] { display: none !important; }` so we also need the `!important` here to be able to override the default hidden behavior on the sphinx rendered scikit-learn.org. See: https://github.com/scikit-learn/scikit-learn/issues/21755 */display: inline-block !important;position: relative;}#sk-container-id-2 div.sk-text-repr-fallback {display: none;}</style><div id=\"sk-container-id-2\" class=\"sk-top-container\"><div class=\"sk-text-repr-fallback\"><pre>LogisticRegression()</pre><b>In a Jupyter environment, please rerun this cell to show the HTML representation or trust the notebook. <br />On GitHub, the HTML representation is unable to render, please try loading this page with nbviewer.org.</b></div><div class=\"sk-container\" hidden><div class=\"sk-item\"><div class=\"sk-estimator sk-toggleable\"><input class=\"sk-toggleable__control sk-hidden--visually\" id=\"sk-estimator-id-2\" type=\"checkbox\" checked><label for=\"sk-estimator-id-2\" class=\"sk-toggleable__label sk-toggleable__label-arrow\">LogisticRegression</label><div class=\"sk-toggleable__content\"><pre>LogisticRegression()</pre></div></div></div></div></div>"
      ],
      "text/plain": [
       "LogisticRegression()"
      ]
     },
     "execution_count": 142,
     "metadata": {},
     "output_type": "execute_result"
    }
   ],
   "source": [
    "lr = LogisticRegression()\n",
    "lr.fit(X_train,y_train)\n"
   ]
  },
  {
   "cell_type": "code",
   "execution_count": null,
   "id": "300ccbd5",
   "metadata": {},
   "outputs": [
    {
     "data": {
      "text/plain": [
       "Index(['Annual_Income', 'Monthly_Inhand_Salary', 'Num_Bank_Accounts',\n",
       "       'Num_Credit_Card', 'Interest_Rate', 'Num_of_Loan',\n",
       "       'Delay_from_due_date', 'Num_of_Delayed_Payment', 'Changed_Credit_Limit',\n",
       "       'Num_Credit_Inquiries', 'Outstanding_Debt', 'Credit_Utilization_Ratio',\n",
       "       'Credit_History_Age', 'Payment_of_Min_Amount', 'Total_EMI_per_month',\n",
       "       'Amount_invested_monthly', 'Auto Loan', 'Credit-Builder Loan',\n",
       "       'Debt Consolidation Loan', 'Home Equity Loan', 'Mortgage Loan',\n",
       "       'Not Specified', 'Payday Loan', 'Personal Loan', 'Student Loan'],\n",
       "      dtype='object')"
      ]
     },
     "execution_count": 149,
     "metadata": {},
     "output_type": "execute_result"
    }
   ],
   "source": [
    "df.columns"
   ]
  },
  {
   "cell_type": "code",
   "execution_count": null,
   "id": "e38e7c22",
   "metadata": {},
   "outputs": [
    {
     "name": "stdout",
     "output_type": "stream",
     "text": [
      "              precision    recall  f1-score   support\n",
      "\n",
      "           0       0.96      0.96      0.96     11092\n",
      "           1       0.91      0.91      0.91      4869\n",
      "\n",
      "    accuracy                           0.95     15961\n",
      "   macro avg       0.94      0.94      0.94     15961\n",
      "weighted avg       0.95      0.95      0.95     15961\n",
      "\n"
     ]
    }
   ],
   "source": [
    "# Импорт необходимых библиотек\n",
    "from sklearn.model_selection import train_test_split\n",
    "from sklearn.tree import DecisionTreeClassifier\n",
    "\n",
    "# Разделяем данные на признаки (X) и целевую переменную (y)\n",
    "X = df.drop(\"Auto Loan\", axis=1)\n",
    "y = df[\"Auto Loan\"]\n",
    "\n",
    "# Разделяем данные на обучающий и тестовый наборы\n",
    "X_train, X_test, y_train, y_test = train_test_split(X, y, test_size=0.2, random_state=42)\n",
    "\n",
    "# Создаем и обучаем модель дерева решений\n",
    "dt = DecisionTreeClassifier()\n",
    "dt.fit(X_train, y_train)\n",
    "\n",
    "# Предсказание на тестовом наборе\n",
    "predicted = dt.predict(X_test)\n",
    "\n",
    "# Вывод отчета о классификации\n",
    "print(mt.classification_report(y_test, predicted))\n"
   ]
  },
  {
   "cell_type": "code",
   "execution_count": null,
   "id": "9205fa16",
   "metadata": {},
   "outputs": [
    {
     "data": {
      "text/plain": [
       "Index(['Monthly_Inhand_Salary', 'Num_Bank_Accounts', 'Num_Credit_Card',\n",
       "       'Interest_Rate', 'Num_of_Loan', 'Delay_from_due_date',\n",
       "       'Num_of_Delayed_Payment', 'Changed_Credit_Limit',\n",
       "       'Num_Credit_Inquiries', 'Outstanding_Debt', 'Credit_Utilization_Ratio',\n",
       "       'Credit_History_Age', 'Payment_of_Min_Amount', 'Total_EMI_per_month',\n",
       "       'Amount_invested_monthly', 'Auto Loan', 'Credit-Builder Loan',\n",
       "       'Debt Consolidation Loan', 'Home Equity Loan', 'Mortgage Loan',\n",
       "       'Not Specified', 'Payday Loan', 'Personal Loan', 'Student Loan'],\n",
       "      dtype='object')"
      ]
     },
     "execution_count": 153,
     "metadata": {},
     "output_type": "execute_result"
    }
   ],
   "source": [
    "df.columns"
   ]
  },
  {
   "cell_type": "code",
   "execution_count": null,
   "id": "7b748bb1",
   "metadata": {},
   "outputs": [
    {
     "name": "stdout",
     "output_type": "stream",
     "text": [
      "              precision    recall  f1-score   support\n",
      "\n",
      "           0       0.98      1.00      0.99     11092\n",
      "           1       0.99      0.95      0.97      4869\n",
      "\n",
      "    accuracy                           0.98     15961\n",
      "   macro avg       0.99      0.97      0.98     15961\n",
      "weighted avg       0.98      0.98      0.98     15961\n",
      "\n"
     ]
    }
   ],
   "source": [
    "# Импорт необходимых библиотек\n",
    "from sklearn.model_selection import train_test_split\n",
    "from sklearn.ensemble import RandomForestClassifier\n",
    "\n",
    "# Разделение данных на признаки (X) и целевую переменную (y)\n",
    "X = df.drop(\"Auto Loan\", axis=1)\n",
    "y = df[\"Auto Loan\"]\n",
    "\n",
    "# Разделение данных на обучающий и тестовый наборы\n",
    "X_train, X_test, y_train, y_test = train_test_split(X, y, test_size=0.2, random_state=42)\n",
    "\n",
    "# Создание и обучение модели Random Forest\n",
    "rf = RandomForestClassifier()\n",
    "rf.fit(X_train, y_train)\n",
    "\n",
    "# Предсказание на тестовом наборе\n",
    "predicted = rf.predict(X_test)\n",
    "\n",
    "# Вывод отчета о классификации\n",
    "print(mt.classification_report(y_test, predicted))\n"
   ]
  },
  {
   "cell_type": "code",
   "execution_count": null,
   "id": "5d9f1104",
   "metadata": {},
   "outputs": [
    {
     "data": {
      "text/plain": [
       "Index(['Monthly_Inhand_Salary', 'Num_Bank_Accounts', 'Num_Credit_Card',\n",
       "       'Interest_Rate', 'Num_of_Loan', 'Delay_from_due_date',\n",
       "       'Num_of_Delayed_Payment', 'Changed_Credit_Limit',\n",
       "       'Num_Credit_Inquiries', 'Outstanding_Debt', 'Credit_Utilization_Ratio',\n",
       "       'Credit_History_Age', 'Payment_of_Min_Amount', 'Total_EMI_per_month',\n",
       "       'Amount_invested_monthly', 'Auto Loan', 'Credit-Builder Loan',\n",
       "       'Debt Consolidation Loan', 'Home Equity Loan', 'Mortgage Loan',\n",
       "       'Not Specified', 'Payday Loan', 'Personal Loan', 'Student Loan'],\n",
       "      dtype='object')"
      ]
     },
     "execution_count": 159,
     "metadata": {},
     "output_type": "execute_result"
    }
   ],
   "source": [
    "df.columns"
   ]
  },
  {
   "cell_type": "code",
   "execution_count": null,
   "id": "b69cbac2-88ac-40d5-9f93-6b2f36a4525b",
   "metadata": {
    "ExecuteTime": {
     "end_time": "2024-04-04T04:02:11.613114700Z",
     "start_time": "2024-04-04T04:02:11.345999500Z"
    }
   },
   "outputs": [
    {
     "ename": "NameError",
     "evalue": "name 'lr' is not defined",
     "output_type": "error",
     "traceback": [
      "\u001b[1;31m---------------------------------------------------------------------------\u001b[0m",
      "\u001b[1;31mNameError\u001b[0m                                 Traceback (most recent call last)",
      "Cell \u001b[1;32mIn[1], line 4\u001b[0m\n\u001b[0;32m      1\u001b[0m \u001b[38;5;28;01mfrom\u001b[39;00m \u001b[38;5;21;01msklearn\u001b[39;00m\u001b[38;5;21;01m.\u001b[39;00m\u001b[38;5;21;01mmetrics\u001b[39;00m \u001b[38;5;28;01mimport\u001b[39;00m accuracy_score, precision_score, recall_score, f1_score\n\u001b[0;32m      3\u001b[0m \u001b[38;5;66;03m# Предсказание на тестовом наборе\u001b[39;00m\n\u001b[1;32m----> 4\u001b[0m predicted \u001b[38;5;241m=\u001b[39m \u001b[43mlr\u001b[49m\u001b[38;5;241m.\u001b[39mpredict(X_test)\n\u001b[0;32m      6\u001b[0m \u001b[38;5;66;03m# Вычисление метрик\u001b[39;00m\n\u001b[0;32m      7\u001b[0m accuracy \u001b[38;5;241m=\u001b[39m accuracy_score(y_test, predicted)\n",
      "\u001b[1;31mNameError\u001b[0m: name 'lr' is not defined"
     ]
    }
   ],
   "source": [
    "from sklearn.metrics import accuracy_score, precision_score, recall_score, f1_score\n",
    "\n",
    "# Предсказание на тестовом наборе\n",
    "predicted = lr.predict(X_test)\n",
    "\n",
    "# Вычисление метрик\n",
    "accuracy = accuracy_score(y_test, predicted)\n",
    "precision = precision_score(y_test, predicted)\n",
    "recall = recall_score(y_test, predicted)\n",
    "f1 = f1_score(y_test, predicted)\n",
    "\n",
    "# Вывод результатов\n",
    "print(\"Accuracy:\", accuracy)\n",
    "print(\"Precision:\", precision)\n",
    "print(\"Recall:\", recall)\n",
    "print(\"F1-score:\", f1)\n"
   ]
  },
  {
   "cell_type": "code",
   "execution_count": null,
   "id": "89d2026e",
   "metadata": {},
   "outputs": [],
   "source": []
  },
  {
   "cell_type": "code",
   "execution_count": null,
   "id": "1b376bd5",
   "metadata": {},
   "outputs": [],
   "source": []
  },
  {
   "cell_type": "code",
   "execution_count": null,
   "id": "3a0afe01",
   "metadata": {},
   "outputs": [],
   "source": []
  },
  {
   "cell_type": "code",
   "execution_count": null,
   "id": "bfdeb0f0",
   "metadata": {},
   "outputs": [
    {
     "data": {
      "text/plain": [
       "Index(['ID', 'Customer_ID', 'Month', 'Name', 'Age', 'SSN', 'Occupation',\n",
       "       'Annual_Income', 'Monthly_Inhand_Salary', 'Num_Bank_Accounts',\n",
       "       'Num_Credit_Card', 'Interest_Rate', 'Num_of_Loan', 'Type_of_Loan',\n",
       "       'Delay_from_due_date', 'Num_of_Delayed_Payment', 'Changed_Credit_Limit',\n",
       "       'Num_Credit_Inquiries', 'Credit_Mix', 'Outstanding_Debt',\n",
       "       'Credit_Utilization_Ratio', 'Credit_History_Age',\n",
       "       'Payment_of_Min_Amount', 'Total_EMI_per_month',\n",
       "       'Amount_invested_monthly', 'Payment_Behaviour', 'Monthly_Balance',\n",
       "       'Credit_Score'],\n",
       "      dtype='object')"
      ]
     },
     "metadata": {},
     "output_type": "display_data"
    }
   ],
   "source": []
  },
  {
   "cell_type": "code",
   "execution_count": null,
   "id": "7f8fdeaa",
   "metadata": {},
   "outputs": [
    {
     "data": {
      "text/plain": [
       "array(['_', 'Good', 'Standard', 'Bad'], dtype=object)"
      ]
     },
     "metadata": {},
     "output_type": "display_data"
    }
   ],
   "source": []
  },
  {
   "cell_type": "code",
   "execution_count": null,
   "id": "9fb011b5",
   "metadata": {},
   "outputs": [
    {
     "data": {
      "text/plain": [
       "(100000, 28)"
      ]
     },
     "metadata": {},
     "output_type": "display_data"
    }
   ],
   "source": []
  },
  {
   "cell_type": "code",
   "execution_count": null,
   "id": "fa9063eb",
   "metadata": {},
   "outputs": [
    {
     "name": "stdout",
     "output_type": "stream",
     "text": [
      "Первые строки датасета:\n",
      "       ID Customer_ID     Month           Name   Age          SSN Occupation  \\\n",
      "0  0x1602   CUS_0xd40   January  Aaron Maashoh    23  821-00-0265  Scientist   \n",
      "1  0x1603   CUS_0xd40  February  Aaron Maashoh    23  821-00-0265  Scientist   \n",
      "2  0x1604   CUS_0xd40     March  Aaron Maashoh  -500  821-00-0265  Scientist   \n",
      "3  0x1605   CUS_0xd40     April  Aaron Maashoh    23  821-00-0265  Scientist   \n",
      "4  0x1606   CUS_0xd40       May  Aaron Maashoh    23  821-00-0265  Scientist   \n",
      "\n",
      "  Annual_Income  Monthly_Inhand_Salary  Num_Bank_Accounts  ...  Credit_Mix  \\\n",
      "0      19114.12            1824.843333                  3  ...           _   \n",
      "1      19114.12                    NaN                  3  ...        Good   \n",
      "2      19114.12                    NaN                  3  ...        Good   \n",
      "3      19114.12                    NaN                  3  ...        Good   \n",
      "4      19114.12            1824.843333                  3  ...        Good   \n",
      "\n",
      "   Outstanding_Debt Credit_Utilization_Ratio     Credit_History_Age  \\\n",
      "0            809.98                26.822620  22 Years and 1 Months   \n",
      "1            809.98                31.944960                    NaN   \n",
      "2            809.98                28.609352  22 Years and 3 Months   \n",
      "3            809.98                31.377862  22 Years and 4 Months   \n",
      "4            809.98                24.797347  22 Years and 5 Months   \n",
      "\n",
      "   Payment_of_Min_Amount Total_EMI_per_month Amount_invested_monthly  \\\n",
      "0                     No           49.574949       80.41529543900253   \n",
      "1                     No           49.574949      118.28022162236736   \n",
      "2                     No           49.574949         81.699521264648   \n",
      "3                     No           49.574949       199.4580743910713   \n",
      "4                     No           49.574949      41.420153086217326   \n",
      "\n",
      "                  Payment_Behaviour     Monthly_Balance Credit_Score  \n",
      "0   High_spent_Small_value_payments  312.49408867943663         Good  \n",
      "1    Low_spent_Large_value_payments  284.62916249607184         Good  \n",
      "2   Low_spent_Medium_value_payments   331.2098628537912         Good  \n",
      "3    Low_spent_Small_value_payments  223.45130972736786         Good  \n",
      "4  High_spent_Medium_value_payments  341.48923103222177         Good  \n",
      "\n",
      "[5 rows x 28 columns]\n",
      "\n",
      "Информация о датасете:\n",
      "<class 'pandas.core.frame.DataFrame'>\n",
      "RangeIndex: 100000 entries, 0 to 99999\n",
      "Data columns (total 28 columns):\n",
      " #   Column                    Non-Null Count   Dtype  \n",
      "---  ------                    --------------   -----  \n",
      " 0   ID                        100000 non-null  object \n",
      " 1   Customer_ID               100000 non-null  object \n",
      " 2   Month                     100000 non-null  object \n",
      " 3   Name                      90015 non-null   object \n",
      " 4   Age                       100000 non-null  object \n",
      " 5   SSN                       100000 non-null  object \n",
      " 6   Occupation                100000 non-null  object \n",
      " 7   Annual_Income             100000 non-null  object \n",
      " 8   Monthly_Inhand_Salary     84998 non-null   float64\n",
      " 9   Num_Bank_Accounts         100000 non-null  int64  \n",
      " 10  Num_Credit_Card           100000 non-null  int64  \n",
      " 11  Interest_Rate             100000 non-null  int64  \n",
      " 12  Num_of_Loan               100000 non-null  object \n",
      " 13  Type_of_Loan              88592 non-null   object \n",
      " 14  Delay_from_due_date       100000 non-null  int64  \n",
      " 15  Num_of_Delayed_Payment    92998 non-null   object \n",
      " 16  Changed_Credit_Limit      100000 non-null  object \n",
      " 17  Num_Credit_Inquiries      98035 non-null   float64\n",
      " 18  Credit_Mix                100000 non-null  object \n",
      " 19  Outstanding_Debt          100000 non-null  object \n",
      " 20  Credit_Utilization_Ratio  100000 non-null  float64\n",
      " 21  Credit_History_Age        90970 non-null   object \n",
      " 22  Payment_of_Min_Amount     100000 non-null  object \n",
      " 23  Total_EMI_per_month       100000 non-null  float64\n",
      " 24  Amount_invested_monthly   95521 non-null   object \n",
      " 25  Payment_Behaviour         100000 non-null  object \n",
      " 26  Monthly_Balance           98800 non-null   object \n",
      " 27  Credit_Score              100000 non-null  object \n",
      "dtypes: float64(4), int64(4), object(20)\n",
      "memory usage: 21.4+ MB\n",
      "\n",
      "Описательная статистика для числовых колонок:\n",
      "       Monthly_Inhand_Salary  Num_Bank_Accounts  Num_Credit_Card  \\\n",
      "count           84998.000000      100000.000000     100000.00000   \n",
      "mean             4194.170850          17.091280         22.47443   \n",
      "std              3183.686167         117.404834        129.05741   \n",
      "min               303.645417          -1.000000          0.00000   \n",
      "25%              1625.568229           3.000000          4.00000   \n",
      "50%              3093.745000           6.000000          5.00000   \n",
      "75%              5957.448333           7.000000          7.00000   \n",
      "max             15204.633333        1798.000000       1499.00000   \n",
      "\n",
      "       Interest_Rate  Delay_from_due_date  Num_Credit_Inquiries  \\\n",
      "count  100000.000000        100000.000000          98035.000000   \n",
      "mean       72.466040            21.068780             27.754251   \n",
      "std       466.422621            14.860104            193.177339   \n",
      "min         1.000000            -5.000000              0.000000   \n",
      "25%         8.000000            10.000000              3.000000   \n",
      "50%        13.000000            18.000000              6.000000   \n",
      "75%        20.000000            28.000000              9.000000   \n",
      "max      5797.000000            67.000000           2597.000000   \n",
      "\n",
      "       Credit_Utilization_Ratio  Total_EMI_per_month  \n",
      "count             100000.000000        100000.000000  \n",
      "mean                  32.285173          1403.118217  \n",
      "std                    5.116875          8306.041270  \n",
      "min                   20.000000             0.000000  \n",
      "25%                   28.052567            30.306660  \n",
      "50%                   32.305784            69.249473  \n",
      "75%                   36.496663           161.224249  \n",
      "max                   50.000000         82331.000000  \n"
     ]
    }
   ],
   "source": []
  },
  {
   "cell_type": "code",
   "execution_count": null,
   "id": "8e6eea0a",
   "metadata": {},
   "outputs": [],
   "source": []
  },
  {
   "cell_type": "code",
   "execution_count": null,
   "id": "b82a0c4a",
   "metadata": {},
   "outputs": [
    {
     "data": {
      "text/plain": [
       "Annual_Income                   0\n",
       "Monthly_Inhand_Salary       15002\n",
       "Num_Bank_Accounts               0\n",
       "Num_Credit_Card                 0\n",
       "Interest_Rate                   0\n",
       "Num_of_Loan                     0\n",
       "Type_of_Loan                11408\n",
       "Delay_from_due_date             0\n",
       "Num_of_Delayed_Payment       7002\n",
       "Changed_Credit_Limit            0\n",
       "Num_Credit_Inquiries         1965\n",
       "Credit_Mix                      0\n",
       "Outstanding_Debt                0\n",
       "Credit_Utilization_Ratio        0\n",
       "Credit_History_Age           9030\n",
       "Payment_of_Min_Amount           0\n",
       "Total_EMI_per_month             0\n",
       "Amount_invested_monthly      4479\n",
       "Payment_Behaviour               0\n",
       "Monthly_Balance              1200\n",
       "Credit_Score                    0\n",
       "dtype: int64"
      ]
     },
     "metadata": {},
     "output_type": "display_data"
    }
   ],
   "source": []
  },
  {
   "cell_type": "code",
   "execution_count": null,
   "id": "19672128",
   "metadata": {},
   "outputs": [
    {
     "data": {
      "text/plain": [
       "Annual_Income                object\n",
       "Monthly_Inhand_Salary       float64\n",
       "Num_Bank_Accounts             int64\n",
       "Num_Credit_Card               int64\n",
       "Interest_Rate                 int64\n",
       "Num_of_Loan                  object\n",
       "Type_of_Loan                 object\n",
       "Delay_from_due_date           int64\n",
       "Num_of_Delayed_Payment       object\n",
       "Changed_Credit_Limit         object\n",
       "Num_Credit_Inquiries        float64\n",
       "Credit_Mix                   object\n",
       "Outstanding_Debt             object\n",
       "Credit_Utilization_Ratio    float64\n",
       "Credit_History_Age           object\n",
       "Payment_of_Min_Amount        object\n",
       "Total_EMI_per_month         float64\n",
       "Amount_invested_monthly      object\n",
       "Payment_Behaviour            object\n",
       "Monthly_Balance              object\n",
       "Credit_Score                 object\n",
       "dtype: object"
      ]
     },
     "metadata": {},
     "output_type": "display_data"
    }
   ],
   "source": []
  },
  {
   "cell_type": "code",
   "execution_count": null,
   "id": "e6afe008",
   "metadata": {},
   "outputs": [],
   "source": []
  },
  {
   "cell_type": "code",
   "execution_count": null,
   "id": "06d379a4",
   "metadata": {},
   "outputs": [],
   "source": []
  },
  {
   "cell_type": "code",
   "execution_count": null,
   "id": "1ab1eede",
   "metadata": {},
   "outputs": [
    {
     "data": {
      "text/plain": [
       "0        Credit-Builder Loan, Personal Loan, Auto Loan,...\n",
       "1        Credit-Builder Loan, Personal Loan, Auto Loan,...\n",
       "2        Credit-Builder Loan, Personal Loan, Auto Loan,...\n",
       "3        Credit-Builder Loan, Personal Loan, Auto Loan,...\n",
       "4        Credit-Builder Loan, Personal Loan, Auto Loan,...\n",
       "                               ...                        \n",
       "99995                              Student Loan, Auto Loan\n",
       "99996                              Student Loan, Auto Loan\n",
       "99997                              Student Loan, Auto Loan\n",
       "99998                              Student Loan, Auto Loan\n",
       "99999                              Student Loan, Auto Loan\n",
       "Name: Type_of_Loan, Length: 100000, dtype: object"
      ]
     },
     "metadata": {},
     "output_type": "display_data"
    }
   ],
   "source": []
  },
  {
   "cell_type": "code",
   "execution_count": null,
   "id": "649dca0f",
   "metadata": {},
   "outputs": [],
   "source": []
  },
  {
   "cell_type": "code",
   "execution_count": null,
   "id": "5ea01006",
   "metadata": {},
   "outputs": [
    {
     "name": "stdout",
     "output_type": "stream",
     "text": [
      "{'Credit-Builder Loan', 'nan', 'Student Loan', 'Not Specified', 'Payday Loan', 'Personal Loan', 'Mortgage Loan', 'Auto Loan', 'Home Equity Loan', 'Debt Consolidation Loan'}\n"
     ]
    }
   ],
   "source": []
  },
  {
   "cell_type": "code",
   "execution_count": null,
   "id": "90f71e55",
   "metadata": {},
   "outputs": [],
   "source": []
  },
  {
   "cell_type": "code",
   "execution_count": null,
   "id": "77fcadb7",
   "metadata": {},
   "outputs": [],
   "source": []
  },
  {
   "cell_type": "code",
   "execution_count": null,
   "id": "b7f10ff5",
   "metadata": {},
   "outputs": [
    {
     "data": {
      "text/plain": [
       "'Credit-Builder Loan, Personal Loan, Auto Loan, Home Equity Loan'"
      ]
     },
     "metadata": {},
     "output_type": "display_data"
    }
   ],
   "source": []
  },
  {
   "cell_type": "code",
   "execution_count": null,
   "id": "cf141b76",
   "metadata": {},
   "outputs": [],
   "source": []
  },
  {
   "cell_type": "code",
   "execution_count": null,
   "id": "7c636f5a",
   "metadata": {},
   "outputs": [],
   "source": []
  },
  {
   "cell_type": "code",
   "execution_count": null,
   "id": "a195bad4",
   "metadata": {},
   "outputs": [
    {
     "data": {
      "text/plain": [
       "(100000, 31)"
      ]
     },
     "metadata": {},
     "output_type": "display_data"
    }
   ],
   "source": []
  },
  {
   "cell_type": "code",
   "execution_count": null,
   "id": "0938f38a",
   "metadata": {},
   "outputs": [],
   "source": []
  },
  {
   "cell_type": "code",
   "execution_count": null,
   "id": "aa20e0d6",
   "metadata": {},
   "outputs": [
    {
     "data": {
      "text/plain": [
       "(100000, 30)"
      ]
     },
     "metadata": {},
     "output_type": "display_data"
    }
   ],
   "source": []
  },
  {
   "cell_type": "code",
   "execution_count": null,
   "id": "8e1ab86f",
   "metadata": {},
   "outputs": [
    {
     "data": {
      "text/plain": [
       "Annual_Income                18940\n",
       "Monthly_Inhand_Salary        13235\n",
       "Num_Bank_Accounts              943\n",
       "Num_Credit_Card               1179\n",
       "Interest_Rate                 1750\n",
       "Num_of_Loan                    434\n",
       "Delay_from_due_date             73\n",
       "Num_of_Delayed_Payment         749\n",
       "Changed_Credit_Limit          4384\n",
       "Num_Credit_Inquiries          1223\n",
       "Credit_Mix                       4\n",
       "Outstanding_Debt             13178\n",
       "Credit_Utilization_Ratio    100000\n",
       "Credit_History_Age             404\n",
       "Payment_of_Min_Amount            3\n",
       "Total_EMI_per_month          14950\n",
       "Amount_invested_monthly      91049\n",
       "Payment_Behaviour                7\n",
       "Monthly_Balance              98792\n",
       "Credit_Score                     3\n",
       "Auto Loan                        2\n",
       "Credit-Builder Loan              2\n",
       "Debt Consolidation Loan          2\n",
       "Home Equity Loan                 2\n",
       "Mortgage Loan                    2\n",
       "Not Specified                    2\n",
       "Payday Loan                      2\n",
       "Personal Loan                    2\n",
       "Student Loan                     2\n",
       "nan                              2\n",
       "dtype: int64"
      ]
     },
     "metadata": {},
     "output_type": "display_data"
    }
   ],
   "source": []
  },
  {
   "cell_type": "code",
   "execution_count": null,
   "id": "85e0638c",
   "metadata": {},
   "outputs": [],
   "source": []
  },
  {
   "cell_type": "code",
   "execution_count": null,
   "id": "4096f0fd",
   "metadata": {},
   "outputs": [
    {
     "name": "stdout",
     "output_type": "stream",
     "text": [
      "<class 'pandas.core.frame.DataFrame'>\n",
      "RangeIndex: 100000 entries, 0 to 99999\n",
      "Data columns (total 29 columns):\n",
      " #   Column                    Non-Null Count   Dtype  \n",
      "---  ------                    --------------   -----  \n",
      " 0   Annual_Income             100000 non-null  object \n",
      " 1   Monthly_Inhand_Salary     84998 non-null   float64\n",
      " 2   Num_Bank_Accounts         100000 non-null  int64  \n",
      " 3   Num_Credit_Card           100000 non-null  int64  \n",
      " 4   Interest_Rate             100000 non-null  int64  \n",
      " 5   Num_of_Loan               100000 non-null  object \n",
      " 6   Delay_from_due_date       100000 non-null  int64  \n",
      " 7   Num_of_Delayed_Payment    92998 non-null   object \n",
      " 8   Changed_Credit_Limit      100000 non-null  object \n",
      " 9   Num_Credit_Inquiries      98035 non-null   float64\n",
      " 10  Credit_Mix                100000 non-null  object \n",
      " 11  Outstanding_Debt          100000 non-null  object \n",
      " 12  Credit_Utilization_Ratio  100000 non-null  float64\n",
      " 13  Credit_History_Age        90970 non-null   object \n",
      " 14  Payment_of_Min_Amount     100000 non-null  object \n",
      " 15  Total_EMI_per_month       100000 non-null  float64\n",
      " 16  Amount_invested_monthly   95521 non-null   object \n",
      " 17  Payment_Behaviour         100000 non-null  object \n",
      " 18  Monthly_Balance           98800 non-null   object \n",
      " 19  Credit_Score              100000 non-null  object \n",
      " 20  Auto Loan                 100000 non-null  int64  \n",
      " 21  Credit-Builder Loan       100000 non-null  int64  \n",
      " 22  Debt Consolidation Loan   100000 non-null  int64  \n",
      " 23  Home Equity Loan          100000 non-null  int64  \n",
      " 24  Mortgage Loan             100000 non-null  int64  \n",
      " 25  Not Specified             100000 non-null  int64  \n",
      " 26  Payday Loan               100000 non-null  int64  \n",
      " 27  Personal Loan             100000 non-null  int64  \n",
      " 28  Student Loan              100000 non-null  int64  \n",
      "dtypes: float64(4), int64(13), object(12)\n",
      "memory usage: 22.1+ MB\n"
     ]
    }
   ],
   "source": []
  },
  {
   "cell_type": "code",
   "execution_count": null,
   "id": "6e887a15",
   "metadata": {},
   "outputs": [
    {
     "data": {
      "text/plain": [
       "0"
      ]
     },
     "metadata": {},
     "output_type": "display_data"
    }
   ],
   "source": []
  },
  {
   "cell_type": "code",
   "execution_count": null,
   "id": "dbbe4a47",
   "metadata": {},
   "outputs": [
    {
     "data": {
      "text/plain": [
       "7"
      ]
     },
     "metadata": {},
     "output_type": "display_data"
    }
   ],
   "source": []
  },
  {
   "cell_type": "code",
   "execution_count": null,
   "id": "7423efbd",
   "metadata": {},
   "outputs": [
    {
     "data": {
      "text/html": [
       "<div>\n",
       "<style scoped>\n",
       "    .dataframe tbody tr th:only-of-type {\n",
       "        vertical-align: middle;\n",
       "    }\n",
       "\n",
       "    .dataframe tbody tr th {\n",
       "        vertical-align: top;\n",
       "    }\n",
       "\n",
       "    .dataframe thead th {\n",
       "        text-align: right;\n",
       "    }\n",
       "</style>\n",
       "<table border=\"1\" class=\"dataframe\">\n",
       "  <thead>\n",
       "    <tr style=\"text-align: right;\">\n",
       "      <th></th>\n",
       "      <th>Annual_Income</th>\n",
       "      <th>Monthly_Inhand_Salary</th>\n",
       "      <th>Num_Bank_Accounts</th>\n",
       "      <th>Num_Credit_Card</th>\n",
       "      <th>Interest_Rate</th>\n",
       "      <th>Num_of_Loan</th>\n",
       "      <th>Delay_from_due_date</th>\n",
       "      <th>Num_of_Delayed_Payment</th>\n",
       "      <th>Changed_Credit_Limit</th>\n",
       "      <th>Num_Credit_Inquiries</th>\n",
       "      <th>...</th>\n",
       "      <th>Credit_Score</th>\n",
       "      <th>Auto Loan</th>\n",
       "      <th>Credit-Builder Loan</th>\n",
       "      <th>Debt Consolidation Loan</th>\n",
       "      <th>Home Equity Loan</th>\n",
       "      <th>Mortgage Loan</th>\n",
       "      <th>Not Specified</th>\n",
       "      <th>Payday Loan</th>\n",
       "      <th>Personal Loan</th>\n",
       "      <th>Student Loan</th>\n",
       "    </tr>\n",
       "  </thead>\n",
       "  <tbody>\n",
       "    <tr>\n",
       "      <th>0</th>\n",
       "      <td>19114.12</td>\n",
       "      <td>1824.843333</td>\n",
       "      <td>3</td>\n",
       "      <td>4</td>\n",
       "      <td>3</td>\n",
       "      <td>4</td>\n",
       "      <td>3</td>\n",
       "      <td>7</td>\n",
       "      <td>11.27</td>\n",
       "      <td>4.0</td>\n",
       "      <td>...</td>\n",
       "      <td>Good</td>\n",
       "      <td>1</td>\n",
       "      <td>1</td>\n",
       "      <td>0</td>\n",
       "      <td>1</td>\n",
       "      <td>0</td>\n",
       "      <td>0</td>\n",
       "      <td>0</td>\n",
       "      <td>1</td>\n",
       "      <td>0</td>\n",
       "    </tr>\n",
       "    <tr>\n",
       "      <th>1</th>\n",
       "      <td>19114.12</td>\n",
       "      <td>NaN</td>\n",
       "      <td>3</td>\n",
       "      <td>4</td>\n",
       "      <td>3</td>\n",
       "      <td>4</td>\n",
       "      <td>-1</td>\n",
       "      <td>NaN</td>\n",
       "      <td>11.27</td>\n",
       "      <td>4.0</td>\n",
       "      <td>...</td>\n",
       "      <td>Good</td>\n",
       "      <td>1</td>\n",
       "      <td>1</td>\n",
       "      <td>0</td>\n",
       "      <td>1</td>\n",
       "      <td>0</td>\n",
       "      <td>0</td>\n",
       "      <td>0</td>\n",
       "      <td>1</td>\n",
       "      <td>0</td>\n",
       "    </tr>\n",
       "    <tr>\n",
       "      <th>2</th>\n",
       "      <td>19114.12</td>\n",
       "      <td>NaN</td>\n",
       "      <td>3</td>\n",
       "      <td>4</td>\n",
       "      <td>3</td>\n",
       "      <td>4</td>\n",
       "      <td>3</td>\n",
       "      <td>7</td>\n",
       "      <td>_</td>\n",
       "      <td>4.0</td>\n",
       "      <td>...</td>\n",
       "      <td>Good</td>\n",
       "      <td>1</td>\n",
       "      <td>1</td>\n",
       "      <td>0</td>\n",
       "      <td>1</td>\n",
       "      <td>0</td>\n",
       "      <td>0</td>\n",
       "      <td>0</td>\n",
       "      <td>1</td>\n",
       "      <td>0</td>\n",
       "    </tr>\n",
       "    <tr>\n",
       "      <th>3</th>\n",
       "      <td>19114.12</td>\n",
       "      <td>NaN</td>\n",
       "      <td>3</td>\n",
       "      <td>4</td>\n",
       "      <td>3</td>\n",
       "      <td>4</td>\n",
       "      <td>5</td>\n",
       "      <td>4</td>\n",
       "      <td>6.27</td>\n",
       "      <td>4.0</td>\n",
       "      <td>...</td>\n",
       "      <td>Good</td>\n",
       "      <td>1</td>\n",
       "      <td>1</td>\n",
       "      <td>0</td>\n",
       "      <td>1</td>\n",
       "      <td>0</td>\n",
       "      <td>0</td>\n",
       "      <td>0</td>\n",
       "      <td>1</td>\n",
       "      <td>0</td>\n",
       "    </tr>\n",
       "    <tr>\n",
       "      <th>4</th>\n",
       "      <td>19114.12</td>\n",
       "      <td>1824.843333</td>\n",
       "      <td>3</td>\n",
       "      <td>4</td>\n",
       "      <td>3</td>\n",
       "      <td>4</td>\n",
       "      <td>6</td>\n",
       "      <td>NaN</td>\n",
       "      <td>11.27</td>\n",
       "      <td>4.0</td>\n",
       "      <td>...</td>\n",
       "      <td>Good</td>\n",
       "      <td>1</td>\n",
       "      <td>1</td>\n",
       "      <td>0</td>\n",
       "      <td>1</td>\n",
       "      <td>0</td>\n",
       "      <td>0</td>\n",
       "      <td>0</td>\n",
       "      <td>1</td>\n",
       "      <td>0</td>\n",
       "    </tr>\n",
       "  </tbody>\n",
       "</table>\n",
       "<p>5 rows × 29 columns</p>\n",
       "</div>"
      ],
      "text/plain": [
       "  Annual_Income  Monthly_Inhand_Salary  Num_Bank_Accounts  Num_Credit_Card  \\\n",
       "0      19114.12            1824.843333                  3                4   \n",
       "1      19114.12                    NaN                  3                4   \n",
       "2      19114.12                    NaN                  3                4   \n",
       "3      19114.12                    NaN                  3                4   \n",
       "4      19114.12            1824.843333                  3                4   \n",
       "\n",
       "   Interest_Rate Num_of_Loan  Delay_from_due_date Num_of_Delayed_Payment  \\\n",
       "0              3           4                    3                      7   \n",
       "1              3           4                   -1                    NaN   \n",
       "2              3           4                    3                      7   \n",
       "3              3           4                    5                      4   \n",
       "4              3           4                    6                    NaN   \n",
       "\n",
       "  Changed_Credit_Limit  Num_Credit_Inquiries  ... Credit_Score Auto Loan  \\\n",
       "0                11.27                   4.0  ...         Good         1   \n",
       "1                11.27                   4.0  ...         Good         1   \n",
       "2                    _                   4.0  ...         Good         1   \n",
       "3                 6.27                   4.0  ...         Good         1   \n",
       "4                11.27                   4.0  ...         Good         1   \n",
       "\n",
       "   Credit-Builder Loan Debt Consolidation Loan Home Equity Loan  \\\n",
       "0                    1                       0                1   \n",
       "1                    1                       0                1   \n",
       "2                    1                       0                1   \n",
       "3                    1                       0                1   \n",
       "4                    1                       0                1   \n",
       "\n",
       "   Mortgage Loan Not Specified Payday Loan Personal Loan Student Loan  \n",
       "0              0             0           0             1            0  \n",
       "1              0             0           0             1            0  \n",
       "2              0             0           0             1            0  \n",
       "3              0             0           0             1            0  \n",
       "4              0             0           0             1            0  \n",
       "\n",
       "[5 rows x 29 columns]"
      ]
     },
     "metadata": {},
     "output_type": "display_data"
    }
   ],
   "source": []
  },
  {
   "cell_type": "code",
   "execution_count": null,
   "id": "25e9273c",
   "metadata": {},
   "outputs": [
    {
     "name": "stdout",
     "output_type": "stream",
     "text": [
      "22 Years and 1 Months\n",
      "nan\n",
      "22 Years and 3 Months\n",
      "22 Years and 4 Months\n",
      "22 Years and 5 Months\n"
     ]
    }
   ],
   "source": []
  },
  {
   "cell_type": "code",
   "execution_count": null,
   "id": "ba452540",
   "metadata": {},
   "outputs": [],
   "source": []
  },
  {
   "cell_type": "code",
   "execution_count": null,
   "id": "20457af1",
   "metadata": {},
   "outputs": [
    {
     "data": {
      "text/html": [
       "<div>\n",
       "<style scoped>\n",
       "    .dataframe tbody tr th:only-of-type {\n",
       "        vertical-align: middle;\n",
       "    }\n",
       "\n",
       "    .dataframe tbody tr th {\n",
       "        vertical-align: top;\n",
       "    }\n",
       "\n",
       "    .dataframe thead th {\n",
       "        text-align: right;\n",
       "    }\n",
       "</style>\n",
       "<table border=\"1\" class=\"dataframe\">\n",
       "  <thead>\n",
       "    <tr style=\"text-align: right;\">\n",
       "      <th></th>\n",
       "      <th>Annual_Income</th>\n",
       "      <th>Monthly_Inhand_Salary</th>\n",
       "      <th>Num_Bank_Accounts</th>\n",
       "      <th>Num_Credit_Card</th>\n",
       "      <th>Interest_Rate</th>\n",
       "      <th>Num_of_Loan</th>\n",
       "      <th>Delay_from_due_date</th>\n",
       "      <th>Num_of_Delayed_Payment</th>\n",
       "      <th>Changed_Credit_Limit</th>\n",
       "      <th>Num_Credit_Inquiries</th>\n",
       "      <th>...</th>\n",
       "      <th>Credit_Score</th>\n",
       "      <th>Auto Loan</th>\n",
       "      <th>Credit-Builder Loan</th>\n",
       "      <th>Debt Consolidation Loan</th>\n",
       "      <th>Home Equity Loan</th>\n",
       "      <th>Mortgage Loan</th>\n",
       "      <th>Not Specified</th>\n",
       "      <th>Payday Loan</th>\n",
       "      <th>Personal Loan</th>\n",
       "      <th>Student Loan</th>\n",
       "    </tr>\n",
       "  </thead>\n",
       "  <tbody>\n",
       "    <tr>\n",
       "      <th>0</th>\n",
       "      <td>19114.12</td>\n",
       "      <td>1824.843333</td>\n",
       "      <td>3</td>\n",
       "      <td>4</td>\n",
       "      <td>3</td>\n",
       "      <td>4</td>\n",
       "      <td>3</td>\n",
       "      <td>7</td>\n",
       "      <td>11.27</td>\n",
       "      <td>4.0</td>\n",
       "      <td>...</td>\n",
       "      <td>Good</td>\n",
       "      <td>1</td>\n",
       "      <td>1</td>\n",
       "      <td>0</td>\n",
       "      <td>1</td>\n",
       "      <td>0</td>\n",
       "      <td>0</td>\n",
       "      <td>0</td>\n",
       "      <td>1</td>\n",
       "      <td>0</td>\n",
       "    </tr>\n",
       "    <tr>\n",
       "      <th>1</th>\n",
       "      <td>19114.12</td>\n",
       "      <td>NaN</td>\n",
       "      <td>3</td>\n",
       "      <td>4</td>\n",
       "      <td>3</td>\n",
       "      <td>4</td>\n",
       "      <td>-1</td>\n",
       "      <td>NaN</td>\n",
       "      <td>11.27</td>\n",
       "      <td>4.0</td>\n",
       "      <td>...</td>\n",
       "      <td>Good</td>\n",
       "      <td>1</td>\n",
       "      <td>1</td>\n",
       "      <td>0</td>\n",
       "      <td>1</td>\n",
       "      <td>0</td>\n",
       "      <td>0</td>\n",
       "      <td>0</td>\n",
       "      <td>1</td>\n",
       "      <td>0</td>\n",
       "    </tr>\n",
       "    <tr>\n",
       "      <th>2</th>\n",
       "      <td>19114.12</td>\n",
       "      <td>NaN</td>\n",
       "      <td>3</td>\n",
       "      <td>4</td>\n",
       "      <td>3</td>\n",
       "      <td>4</td>\n",
       "      <td>3</td>\n",
       "      <td>7</td>\n",
       "      <td>_</td>\n",
       "      <td>4.0</td>\n",
       "      <td>...</td>\n",
       "      <td>Good</td>\n",
       "      <td>1</td>\n",
       "      <td>1</td>\n",
       "      <td>0</td>\n",
       "      <td>1</td>\n",
       "      <td>0</td>\n",
       "      <td>0</td>\n",
       "      <td>0</td>\n",
       "      <td>1</td>\n",
       "      <td>0</td>\n",
       "    </tr>\n",
       "    <tr>\n",
       "      <th>3</th>\n",
       "      <td>19114.12</td>\n",
       "      <td>NaN</td>\n",
       "      <td>3</td>\n",
       "      <td>4</td>\n",
       "      <td>3</td>\n",
       "      <td>4</td>\n",
       "      <td>5</td>\n",
       "      <td>4</td>\n",
       "      <td>6.27</td>\n",
       "      <td>4.0</td>\n",
       "      <td>...</td>\n",
       "      <td>Good</td>\n",
       "      <td>1</td>\n",
       "      <td>1</td>\n",
       "      <td>0</td>\n",
       "      <td>1</td>\n",
       "      <td>0</td>\n",
       "      <td>0</td>\n",
       "      <td>0</td>\n",
       "      <td>1</td>\n",
       "      <td>0</td>\n",
       "    </tr>\n",
       "    <tr>\n",
       "      <th>4</th>\n",
       "      <td>19114.12</td>\n",
       "      <td>1824.843333</td>\n",
       "      <td>3</td>\n",
       "      <td>4</td>\n",
       "      <td>3</td>\n",
       "      <td>4</td>\n",
       "      <td>6</td>\n",
       "      <td>NaN</td>\n",
       "      <td>11.27</td>\n",
       "      <td>4.0</td>\n",
       "      <td>...</td>\n",
       "      <td>Good</td>\n",
       "      <td>1</td>\n",
       "      <td>1</td>\n",
       "      <td>0</td>\n",
       "      <td>1</td>\n",
       "      <td>0</td>\n",
       "      <td>0</td>\n",
       "      <td>0</td>\n",
       "      <td>1</td>\n",
       "      <td>0</td>\n",
       "    </tr>\n",
       "  </tbody>\n",
       "</table>\n",
       "<p>5 rows × 29 columns</p>\n",
       "</div>"
      ],
      "text/plain": [
       "  Annual_Income  Monthly_Inhand_Salary  Num_Bank_Accounts  Num_Credit_Card  \\\n",
       "0      19114.12            1824.843333                  3                4   \n",
       "1      19114.12                    NaN                  3                4   \n",
       "2      19114.12                    NaN                  3                4   \n",
       "3      19114.12                    NaN                  3                4   \n",
       "4      19114.12            1824.843333                  3                4   \n",
       "\n",
       "   Interest_Rate Num_of_Loan  Delay_from_due_date Num_of_Delayed_Payment  \\\n",
       "0              3           4                    3                      7   \n",
       "1              3           4                   -1                    NaN   \n",
       "2              3           4                    3                      7   \n",
       "3              3           4                    5                      4   \n",
       "4              3           4                    6                    NaN   \n",
       "\n",
       "  Changed_Credit_Limit  Num_Credit_Inquiries  ... Credit_Score Auto Loan  \\\n",
       "0                11.27                   4.0  ...         Good         1   \n",
       "1                11.27                   4.0  ...         Good         1   \n",
       "2                    _                   4.0  ...         Good         1   \n",
       "3                 6.27                   4.0  ...         Good         1   \n",
       "4                11.27                   4.0  ...         Good         1   \n",
       "\n",
       "   Credit-Builder Loan  Debt Consolidation Loan Home Equity Loan  \\\n",
       "0                    1                        0                1   \n",
       "1                    1                        0                1   \n",
       "2                    1                        0                1   \n",
       "3                    1                        0                1   \n",
       "4                    1                        0                1   \n",
       "\n",
       "   Mortgage Loan Not Specified Payday Loan Personal Loan Student Loan  \n",
       "0              0             0           0             1            0  \n",
       "1              0             0           0             1            0  \n",
       "2              0             0           0             1            0  \n",
       "3              0             0           0             1            0  \n",
       "4              0             0           0             1            0  \n",
       "\n",
       "[5 rows x 29 columns]"
      ]
     },
     "metadata": {},
     "output_type": "display_data"
    }
   ],
   "source": []
  },
  {
   "cell_type": "code",
   "execution_count": null,
   "id": "a61cc73d",
   "metadata": {},
   "outputs": [
    {
     "data": {
      "text/plain": [
       "0        22.083333\n",
       "1              NaN\n",
       "2        22.250000\n",
       "3        22.333333\n",
       "4        22.416667\n",
       "           ...    \n",
       "99995    31.500000\n",
       "99996    31.583333\n",
       "99997    31.666667\n",
       "99998    31.750000\n",
       "99999    31.833333\n",
       "Name: Credit_History_Age, Length: 100000, dtype: float64"
      ]
     },
     "metadata": {},
     "output_type": "display_data"
    }
   ],
   "source": []
  },
  {
   "cell_type": "code",
   "execution_count": null,
   "id": "aeb6b5c0",
   "metadata": {},
   "outputs": [
    {
     "data": {
      "text/plain": [
       "Annual_Income                object\n",
       "Monthly_Inhand_Salary       float64\n",
       "Num_Bank_Accounts             int64\n",
       "Num_Credit_Card               int64\n",
       "Interest_Rate                 int64\n",
       "Num_of_Loan                  object\n",
       "Delay_from_due_date           int64\n",
       "Num_of_Delayed_Payment       object\n",
       "Changed_Credit_Limit         object\n",
       "Num_Credit_Inquiries        float64\n",
       "Credit_Mix                   object\n",
       "Outstanding_Debt             object\n",
       "Credit_Utilization_Ratio    float64\n",
       "Credit_History_Age          float64\n",
       "Payment_of_Min_Amount        object\n",
       "Total_EMI_per_month         float64\n",
       "Amount_invested_monthly      object\n",
       "Payment_Behaviour            object\n",
       "Monthly_Balance              object\n",
       "Credit_Score                 object\n",
       "Auto Loan                     int64\n",
       "Credit-Builder Loan           int64\n",
       "Debt Consolidation Loan       int64\n",
       "Home Equity Loan              int64\n",
       "Mortgage Loan                 int64\n",
       "Not Specified                 int64\n",
       "Payday Loan                   int64\n",
       "Personal Loan                 int64\n",
       "Student Loan                  int64\n",
       "dtype: object"
      ]
     },
     "metadata": {},
     "output_type": "display_data"
    }
   ],
   "source": []
  },
  {
   "cell_type": "code",
   "execution_count": null,
   "id": "c7792aa8",
   "metadata": {},
   "outputs": [],
   "source": []
  },
  {
   "cell_type": "code",
   "execution_count": null,
   "id": "708edd41",
   "metadata": {},
   "outputs": [],
   "source": []
  },
  {
   "cell_type": "code",
   "execution_count": null,
   "id": "dc247a4b",
   "metadata": {},
   "outputs": [],
   "source": []
  },
  {
   "cell_type": "code",
   "execution_count": null,
   "id": "315a2f04",
   "metadata": {},
   "outputs": [],
   "source": []
  },
  {
   "cell_type": "code",
   "execution_count": null,
   "id": "d80118b6",
   "metadata": {},
   "outputs": [
    {
     "data": {
      "text/plain": [
       "Annual_Income                object\n",
       "Monthly_Inhand_Salary       float64\n",
       "Num_Bank_Accounts             int64\n",
       "Num_Credit_Card               int64\n",
       "Interest_Rate                 int64\n",
       "Num_of_Loan                  object\n",
       "Delay_from_due_date           int64\n",
       "Num_of_Delayed_Payment       object\n",
       "Changed_Credit_Limit         object\n",
       "Num_Credit_Inquiries        float64\n",
       "Credit_Mix                   object\n",
       "Outstanding_Debt             object\n",
       "Credit_Utilization_Ratio    float64\n",
       "Credit_History_Age          float64\n",
       "Payment_of_Min_Amount         int32\n",
       "Total_EMI_per_month         float64\n",
       "Amount_invested_monthly      object\n",
       "Payment_Behaviour             int32\n",
       "Monthly_Balance              object\n",
       "Credit_Score                 object\n",
       "Auto Loan                     int64\n",
       "Credit-Builder Loan           int64\n",
       "Debt Consolidation Loan       int64\n",
       "Home Equity Loan              int64\n",
       "Mortgage Loan                 int64\n",
       "Not Specified                 int64\n",
       "Payday Loan                   int64\n",
       "Personal Loan                 int64\n",
       "Student Loan                  int64\n",
       "dtype: object"
      ]
     },
     "metadata": {},
     "output_type": "display_data"
    }
   ],
   "source": []
  },
  {
   "cell_type": "code",
   "execution_count": null,
   "id": "f29bd311",
   "metadata": {},
   "outputs": [
    {
     "data": {
      "text/plain": [
       "Annual_Income                18940\n",
       "Monthly_Inhand_Salary        13235\n",
       "Num_Bank_Accounts              943\n",
       "Num_Credit_Card               1179\n",
       "Interest_Rate                 1750\n",
       "Num_of_Loan                    434\n",
       "Delay_from_due_date             73\n",
       "Num_of_Delayed_Payment         749\n",
       "Changed_Credit_Limit          4384\n",
       "Num_Credit_Inquiries          1223\n",
       "Credit_Mix                       4\n",
       "Outstanding_Debt             13178\n",
       "Credit_Utilization_Ratio    100000\n",
       "Credit_History_Age             404\n",
       "Payment_of_Min_Amount            3\n",
       "Total_EMI_per_month          14950\n",
       "Amount_invested_monthly      91049\n",
       "Payment_Behaviour                7\n",
       "Monthly_Balance              98792\n",
       "Credit_Score                     3\n",
       "Auto Loan                        2\n",
       "Credit-Builder Loan              2\n",
       "Debt Consolidation Loan          2\n",
       "Home Equity Loan                 2\n",
       "Mortgage Loan                    2\n",
       "Not Specified                    2\n",
       "Payday Loan                      2\n",
       "Personal Loan                    2\n",
       "Student Loan                     2\n",
       "dtype: int64"
      ]
     },
     "metadata": {},
     "output_type": "display_data"
    }
   ],
   "source": []
  },
  {
   "cell_type": "code",
   "execution_count": null,
   "id": "d8fe621d",
   "metadata": {},
   "outputs": [
    {
     "data": {
      "text/plain": [
       "0          7\n",
       "1        NaN\n",
       "2          7\n",
       "3          4\n",
       "4        NaN\n",
       "        ... \n",
       "99995      7\n",
       "99996      7\n",
       "99997      6\n",
       "99998    NaN\n",
       "99999      6\n",
       "Name: Num_of_Delayed_Payment, Length: 100000, dtype: object"
      ]
     },
     "metadata": {},
     "output_type": "display_data"
    }
   ],
   "source": []
  },
  {
   "cell_type": "code",
   "execution_count": null,
   "id": "2af1586d",
   "metadata": {},
   "outputs": [
    {
     "data": {
      "text/plain": [
       "Annual_Income                object\n",
       "Monthly_Inhand_Salary       float64\n",
       "Num_Bank_Accounts             int64\n",
       "Num_Credit_Card               int64\n",
       "Interest_Rate                 int64\n",
       "Num_of_Loan                  object\n",
       "Delay_from_due_date           int64\n",
       "Num_of_Delayed_Payment       object\n",
       "Changed_Credit_Limit         object\n",
       "Num_Credit_Inquiries        float64\n",
       "Credit_Mix                   object\n",
       "Outstanding_Debt             object\n",
       "Credit_Utilization_Ratio    float64\n",
       "Credit_History_Age          float64\n",
       "Payment_of_Min_Amount         int32\n",
       "Total_EMI_per_month         float64\n",
       "Amount_invested_monthly      object\n",
       "Payment_Behaviour             int32\n",
       "Monthly_Balance              object\n",
       "Credit_Score                 object\n",
       "Auto Loan                     int64\n",
       "Credit-Builder Loan           int64\n",
       "Debt Consolidation Loan       int64\n",
       "Home Equity Loan              int64\n",
       "Mortgage Loan                 int64\n",
       "Not Specified                 int64\n",
       "Payday Loan                   int64\n",
       "Personal Loan                 int64\n",
       "Student Loan                  int64\n",
       "dtype: object"
      ]
     },
     "metadata": {},
     "output_type": "display_data"
    }
   ],
   "source": []
  },
  {
   "cell_type": "code",
   "execution_count": null,
   "id": "9b7c02b9",
   "metadata": {},
   "outputs": [],
   "source": []
  },
  {
   "cell_type": "code",
   "execution_count": null,
   "id": "d25fd827",
   "metadata": {},
   "outputs": [
    {
     "data": {
      "text/plain": [
       "Annual_Income               float64\n",
       "Monthly_Inhand_Salary       float64\n",
       "Num_Bank_Accounts             int64\n",
       "Num_Credit_Card               int64\n",
       "Interest_Rate                 int64\n",
       "Num_of_Loan                   int64\n",
       "Delay_from_due_date           int64\n",
       "Num_of_Delayed_Payment      float64\n",
       "Changed_Credit_Limit        float64\n",
       "Num_Credit_Inquiries        float64\n",
       "Credit_Mix                   object\n",
       "Outstanding_Debt            float64\n",
       "Credit_Utilization_Ratio    float64\n",
       "Credit_History_Age          float64\n",
       "Payment_of_Min_Amount         int32\n",
       "Total_EMI_per_month         float64\n",
       "Amount_invested_monthly     float64\n",
       "Payment_Behaviour             int32\n",
       "Monthly_Balance             float64\n",
       "Credit_Score                float64\n",
       "Auto Loan                     int64\n",
       "Credit-Builder Loan           int64\n",
       "Debt Consolidation Loan       int64\n",
       "Home Equity Loan              int64\n",
       "Mortgage Loan                 int64\n",
       "Not Specified                 int64\n",
       "Payday Loan                   int64\n",
       "Personal Loan                 int64\n",
       "Student Loan                  int64\n",
       "dtype: object"
      ]
     },
     "metadata": {},
     "output_type": "display_data"
    }
   ],
   "source": []
  },
  {
   "cell_type": "code",
   "execution_count": null,
   "id": "526a6360",
   "metadata": {},
   "outputs": [
    {
     "data": {
      "text/plain": [
       "Annual_Income                    0\n",
       "Monthly_Inhand_Salary        15002\n",
       "Num_Bank_Accounts                0\n",
       "Num_Credit_Card                  0\n",
       "Interest_Rate                    0\n",
       "Num_of_Loan                      0\n",
       "Delay_from_due_date              0\n",
       "Num_of_Delayed_Payment        7002\n",
       "Changed_Credit_Limit          2091\n",
       "Num_Credit_Inquiries          1965\n",
       "Credit_Mix                       0\n",
       "Outstanding_Debt                 0\n",
       "Credit_Utilization_Ratio         0\n",
       "Credit_History_Age            9030\n",
       "Payment_of_Min_Amount            0\n",
       "Total_EMI_per_month              0\n",
       "Amount_invested_monthly       4479\n",
       "Payment_Behaviour                0\n",
       "Monthly_Balance               2868\n",
       "Credit_Score                100000\n",
       "Auto Loan                        0\n",
       "Credit-Builder Loan              0\n",
       "Debt Consolidation Loan          0\n",
       "Home Equity Loan                 0\n",
       "Mortgage Loan                    0\n",
       "Not Specified                    0\n",
       "Payday Loan                      0\n",
       "Personal Loan                    0\n",
       "Student Loan                     0\n",
       "dtype: int64"
      ]
     },
     "metadata": {},
     "output_type": "display_data"
    }
   ],
   "source": []
  },
  {
   "cell_type": "code",
   "execution_count": null,
   "id": "df567553",
   "metadata": {},
   "outputs": [
    {
     "data": {
      "text/plain": [
       "Annual_Income                13487\n",
       "Monthly_Inhand_Salary        13235\n",
       "Num_Bank_Accounts              943\n",
       "Num_Credit_Card               1179\n",
       "Interest_Rate                 1750\n",
       "Num_of_Loan                    414\n",
       "Delay_from_due_date             73\n",
       "Num_of_Delayed_Payment         711\n",
       "Changed_Credit_Limit          4375\n",
       "Num_Credit_Inquiries          1223\n",
       "Credit_Mix                       4\n",
       "Outstanding_Debt             12203\n",
       "Credit_Utilization_Ratio    100000\n",
       "Credit_History_Age             404\n",
       "Payment_of_Min_Amount            3\n",
       "Total_EMI_per_month          14950\n",
       "Amount_invested_monthly      91049\n",
       "Payment_Behaviour                7\n",
       "Monthly_Balance              97124\n",
       "Credit_Score                     0\n",
       "Auto Loan                        2\n",
       "Credit-Builder Loan              2\n",
       "Debt Consolidation Loan          2\n",
       "Home Equity Loan                 2\n",
       "Mortgage Loan                    2\n",
       "Not Specified                    2\n",
       "Payday Loan                      2\n",
       "Personal Loan                    2\n",
       "Student Loan                     2\n",
       "dtype: int64"
      ]
     },
     "metadata": {},
     "output_type": "display_data"
    }
   ],
   "source": []
  },
  {
   "cell_type": "code",
   "execution_count": null,
   "id": "5bd8fc36",
   "metadata": {},
   "outputs": [],
   "source": []
  },
  {
   "cell_type": "code",
   "execution_count": null,
   "id": "f00e4b64",
   "metadata": {},
   "outputs": [
    {
     "data": {
      "text/plain": [
       "Annual_Income                    0\n",
       "Monthly_Inhand_Salary            0\n",
       "Num_Bank_Accounts                0\n",
       "Num_Credit_Card                  0\n",
       "Interest_Rate                    0\n",
       "Num_of_Loan                      0\n",
       "Delay_from_due_date              0\n",
       "Num_of_Delayed_Payment           0\n",
       "Changed_Credit_Limit             0\n",
       "Num_Credit_Inquiries             0\n",
       "Credit_Mix                       0\n",
       "Outstanding_Debt                 0\n",
       "Credit_Utilization_Ratio         0\n",
       "Credit_History_Age               0\n",
       "Payment_of_Min_Amount            0\n",
       "Total_EMI_per_month              0\n",
       "Amount_invested_monthly          0\n",
       "Payment_Behaviour                0\n",
       "Monthly_Balance                  0\n",
       "Credit_Score                100000\n",
       "Auto Loan                        0\n",
       "Credit-Builder Loan              0\n",
       "Debt Consolidation Loan          0\n",
       "Home Equity Loan                 0\n",
       "Mortgage Loan                    0\n",
       "Not Specified                    0\n",
       "Payday Loan                      0\n",
       "Personal Loan                    0\n",
       "Student Loan                     0\n",
       "dtype: int64"
      ]
     },
     "metadata": {},
     "output_type": "display_data"
    }
   ],
   "source": []
  },
  {
   "cell_type": "code",
   "execution_count": null,
   "id": "1d237b40",
   "metadata": {},
   "outputs": [
    {
     "data": {
      "text/plain": [
       "0           _\n",
       "1        Good\n",
       "2        Good\n",
       "3        Good\n",
       "4        Good\n",
       "         ... \n",
       "99995       _\n",
       "99996       _\n",
       "99997    Good\n",
       "99998    Good\n",
       "99999    Good\n",
       "Name: Credit_Mix, Length: 100000, dtype: object"
      ]
     },
     "metadata": {},
     "output_type": "display_data"
    }
   ],
   "source": []
  },
  {
   "cell_type": "code",
   "execution_count": null,
   "id": "c30d195c",
   "metadata": {},
   "outputs": [],
   "source": []
  },
  {
   "cell_type": "code",
   "execution_count": null,
   "id": "86319df8",
   "metadata": {},
   "outputs": [],
   "source": []
  },
  {
   "cell_type": "code",
   "execution_count": null,
   "id": "af9ee4fb",
   "metadata": {},
   "outputs": [
    {
     "data": {
      "text/plain": [
       "Annual_Income               float64\n",
       "Monthly_Inhand_Salary       float64\n",
       "Num_Bank_Accounts             int64\n",
       "Num_Credit_Card               int64\n",
       "Interest_Rate                 int64\n",
       "Num_of_Loan                   int64\n",
       "Delay_from_due_date           int64\n",
       "Num_of_Delayed_Payment      float64\n",
       "Changed_Credit_Limit        float64\n",
       "Num_Credit_Inquiries        float64\n",
       "Credit_Mix                   object\n",
       "Outstanding_Debt            float64\n",
       "Credit_Utilization_Ratio    float64\n",
       "Credit_History_Age          float64\n",
       "Payment_of_Min_Amount         int32\n",
       "Total_EMI_per_month         float64\n",
       "Amount_invested_monthly     float64\n",
       "Payment_Behaviour             int32\n",
       "Monthly_Balance             float64\n",
       "Credit_Score                float64\n",
       "Auto Loan                     int64\n",
       "Credit-Builder Loan           int64\n",
       "Debt Consolidation Loan       int64\n",
       "Home Equity Loan              int64\n",
       "Mortgage Loan                 int64\n",
       "Not Specified                 int64\n",
       "Payday Loan                   int64\n",
       "Personal Loan                 int64\n",
       "Student Loan                  int64\n",
       "dtype: object"
      ]
     },
     "metadata": {},
     "output_type": "display_data"
    }
   ],
   "source": []
  },
  {
   "cell_type": "code",
   "execution_count": null,
   "id": "97620398",
   "metadata": {},
   "outputs": [
    {
     "data": {
      "text/plain": [
       "array(['Good', 'Standard', 'Bad'], dtype=object)"
      ]
     },
     "metadata": {},
     "output_type": "display_data"
    }
   ],
   "source": []
  },
  {
   "cell_type": "code",
   "execution_count": null,
   "id": "564f04b5",
   "metadata": {},
   "outputs": [],
   "source": []
  },
  {
   "cell_type": "code",
   "execution_count": null,
   "id": "2103dc59",
   "metadata": {},
   "outputs": [
    {
     "data": {
      "text/plain": [
       "array([1, 2, 0])"
      ]
     },
     "metadata": {},
     "output_type": "display_data"
    }
   ],
   "source": []
  },
  {
   "cell_type": "code",
   "execution_count": null,
   "id": "20641954",
   "metadata": {},
   "outputs": [
    {
     "data": {
      "image/png": "[encoded data removed]",
      "text/plain": [
       "<Figure size 2000x1500 with 30 Axes>"
      ]
     },
     "metadata": {},
     "output_type": "display_data"
    }
   ],
   "source": []
  },
  {
   "cell_type": "code",
   "execution_count": null,
   "id": "dbf0b011",
   "metadata": {},
   "outputs": [
    {
     "data": {
      "text/plain": [
       "<Axes: >"
      ]
     },
     "metadata": {},
     "output_type": "display_data"
    },
    {
     "data": {
      "image/png": "[encoded data removed]",
      "text/plain": [
       "<Figure size 640x480 with 1 Axes>"
      ]
     },
     "metadata": {},
     "output_type": "display_data"
    }
   ],
   "source": []
  },
  {
   "cell_type": "code",
   "execution_count": null,
   "id": "e2da989c",
   "metadata": {},
   "outputs": [
    {
     "data": {
      "text/plain": [
       "<Axes: >"
      ]
     },
     "metadata": {},
     "output_type": "display_data"
    },
    {
     "data": {
      "image/png": "[encoded data removed]",
      "text/plain": [
       "<Figure size 640x480 with 1 Axes>"
      ]
     },
     "metadata": {},
     "output_type": "display_data"
    }
   ],
   "source": []
  },
  {
   "cell_type": "code",
   "execution_count": null,
   "id": "48d80066",
   "metadata": {},
   "outputs": [
    {
     "data": {
      "text/plain": [
       "<Axes: ylabel='Credit_History_Age'>"
      ]
     },
     "metadata": {},
     "output_type": "display_data"
    },
    {
     "data": {
      "image/png": "[encoded data removed]",
      "text/plain": [
       "<Figure size 640x480 with 1 Axes>"
      ]
     },
     "metadata": {},
     "output_type": "display_data"
    }
   ],
   "source": []
  },
  {
   "cell_type": "code",
   "execution_count": null,
   "id": "5076e157",
   "metadata": {},
   "outputs": [
    {
     "data": {
      "text/plain": [
       "<Axes: ylabel='Monthly_Inhand_Salary'>"
      ]
     },
     "metadata": {},
     "output_type": "display_data"
    },
    {
     "data": {
      "image/png": "[encoded data removed]",
      "text/plain": [
       "<Figure size 640x480 with 1 Axes>"
      ]
     },
     "metadata": {},
     "output_type": "display_data"
    }
   ],
   "source": []
  },
  {
   "cell_type": "code",
   "execution_count": null,
   "id": "fe0e2ca6",
   "metadata": {},
   "outputs": [
    {
     "data": {
      "text/plain": [
       "<Axes: >"
      ]
     },
     "metadata": {},
     "output_type": "display_data"
    },
    {
     "data": {
      "image/png": "[encoded data removed]",
      "text/plain": [
       "<Figure size 640x480 with 1 Axes>"
      ]
     },
     "metadata": {},
     "output_type": "display_data"
    }
   ],
   "source": []
  },
  {
   "cell_type": "code",
   "execution_count": null,
   "id": "efb68dcd",
   "metadata": {},
   "outputs": [],
   "source": []
  },
  {
   "cell_type": "code",
   "execution_count": null,
   "id": "dec7306c",
   "metadata": {},
   "outputs": [],
   "source": []
  },
  {
   "cell_type": "code",
   "execution_count": null,
   "id": "a88f4183",
   "metadata": {},
   "outputs": [],
   "source": []
  },
  {
   "cell_type": "code",
   "execution_count": null,
   "id": "af107d9e",
   "metadata": {},
   "outputs": [
    {
     "data": {
      "text/plain": [
       "Annual_Income                 0.0\n",
       "Monthly_Inhand_Salary         0.0\n",
       "Num_Bank_Accounts             0.0\n",
       "Num_Credit_Card               0.0\n",
       "Interest_Rate                 0.0\n",
       "Num_of_Loan                   0.0\n",
       "Delay_from_due_date           0.0\n",
       "Num_of_Delayed_Payment        0.0\n",
       "Changed_Credit_Limit          0.0\n",
       "Num_Credit_Inquiries          0.0\n",
       "Credit_Mix                    0.0\n",
       "Outstanding_Debt              0.0\n",
       "Credit_Utilization_Ratio      0.0\n",
       "Credit_History_Age            0.0\n",
       "Payment_of_Min_Amount         0.0\n",
       "Total_EMI_per_month           0.0\n",
       "Amount_invested_monthly       0.0\n",
       "Payment_Behaviour             0.0\n",
       "Monthly_Balance               0.0\n",
       "Credit_Score                100.0\n",
       "Auto Loan                     0.0\n",
       "Credit-Builder Loan           0.0\n",
       "Debt Consolidation Loan       0.0\n",
       "Home Equity Loan              0.0\n",
       "Mortgage Loan                 0.0\n",
       "Not Specified                 0.0\n",
       "Payday Loan                   0.0\n",
       "Personal Loan                 0.0\n",
       "Student Loan                  0.0\n",
       "dtype: float64"
      ]
     },
     "metadata": {},
     "output_type": "display_data"
    }
   ],
   "source": []
  },
  {
   "cell_type": "code",
   "execution_count": null,
   "metadata": {},
   "outputs": [],
   "source": []
  },
  {
   "cell_type": "code",
   "execution_count": null,
   "metadata": {},
   "outputs": [
    {
     "data": {
      "text/html": [
       "<style>#sk-container-id-2 {color: black;}#sk-container-id-2 pre{padding: 0;}#sk-container-id-2 div.sk-toggleable {background-color: white;}#sk-container-id-2 label.sk-toggleable__label {cursor: pointer;display: block;width: 100%;margin-bottom: 0;padding: 0.3em;box-sizing: border-box;text-align: center;}#sk-container-id-2 label.sk-toggleable__label-arrow:before {content: \"▸\";float: left;margin-right: 0.25em;color: #696969;}#sk-container-id-2 label.sk-toggleable__label-arrow:hover:before {color: black;}#sk-container-id-2 div.sk-estimator:hover label.sk-toggleable__label-arrow:before {color: black;}#sk-container-id-2 div.sk-toggleable__content {max-height: 0;max-width: 0;overflow: hidden;text-align: left;background-color: #f0f8ff;}#sk-container-id-2 div.sk-toggleable__content pre {margin: 0.2em;color: black;border-radius: 0.25em;background-color: #f0f8ff;}#sk-container-id-2 input.sk-toggleable__control:checked~div.sk-toggleable__content {max-height: 200px;max-width: 100%;overflow: auto;}#sk-container-id-2 input.sk-toggleable__control:checked~label.sk-toggleable__label-arrow:before {content: \"▾\";}#sk-container-id-2 div.sk-estimator input.sk-toggleable__control:checked~label.sk-toggleable__label {background-color: #d4ebff;}#sk-container-id-2 div.sk-label input.sk-toggleable__control:checked~label.sk-toggleable__label {background-color: #d4ebff;}#sk-container-id-2 input.sk-hidden--visually {border: 0;clip: rect(1px 1px 1px 1px);clip: rect(1px, 1px, 1px, 1px);height: 1px;margin: -1px;overflow: hidden;padding: 0;position: absolute;width: 1px;}#sk-container-id-2 div.sk-estimator {font-family: monospace;background-color: #f0f8ff;border: 1px dotted black;border-radius: 0.25em;box-sizing: border-box;margin-bottom: 0.5em;}#sk-container-id-2 div.sk-estimator:hover {background-color: #d4ebff;}#sk-container-id-2 div.sk-parallel-item::after {content: \"\";width: 100%;border-bottom: 1px solid gray;flex-grow: 1;}#sk-container-id-2 div.sk-label:hover label.sk-toggleable__label {background-color: #d4ebff;}#sk-container-id-2 div.sk-serial::before {content: \"\";position: absolute;border-left: 1px solid gray;box-sizing: border-box;top: 0;bottom: 0;left: 50%;z-index: 0;}#sk-container-id-2 div.sk-serial {display: flex;flex-direction: column;align-items: center;background-color: white;padding-right: 0.2em;padding-left: 0.2em;position: relative;}#sk-container-id-2 div.sk-item {position: relative;z-index: 1;}#sk-container-id-2 div.sk-parallel {display: flex;align-items: stretch;justify-content: center;background-color: white;position: relative;}#sk-container-id-2 div.sk-item::before, #sk-container-id-2 div.sk-parallel-item::before {content: \"\";position: absolute;border-left: 1px solid gray;box-sizing: border-box;top: 0;bottom: 0;left: 50%;z-index: -1;}#sk-container-id-2 div.sk-parallel-item {display: flex;flex-direction: column;z-index: 1;position: relative;background-color: white;}#sk-container-id-2 div.sk-parallel-item:first-child::after {align-self: flex-end;width: 50%;}#sk-container-id-2 div.sk-parallel-item:last-child::after {align-self: flex-start;width: 50%;}#sk-container-id-2 div.sk-parallel-item:only-child::after {width: 0;}#sk-container-id-2 div.sk-dashed-wrapped {border: 1px dashed gray;margin: 0 0.4em 0.5em 0.4em;box-sizing: border-box;padding-bottom: 0.4em;background-color: white;}#sk-container-id-2 div.sk-label label {font-family: monospace;font-weight: bold;display: inline-block;line-height: 1.2em;}#sk-container-id-2 div.sk-label-container {text-align: center;}#sk-container-id-2 div.sk-container {/* jupyter's `normalize.less` sets `[hidden] { display: none; }` but bootstrap.min.css set `[hidden] { display: none !important; }` so we also need the `!important` here to be able to override the default hidden behavior on the sphinx rendered scikit-learn.org. See: https://github.com/scikit-learn/scikit-learn/issues/21755 */display: inline-block !important;position: relative;}#sk-container-id-2 div.sk-text-repr-fallback {display: none;}</style><div id=\"sk-container-id-2\" class=\"sk-top-container\"><div class=\"sk-text-repr-fallback\"><pre>LogisticRegression()</pre><b>In a Jupyter environment, please rerun this cell to show the HTML representation or trust the notebook. <br />On GitHub, the HTML representation is unable to render, please try loading this page with nbviewer.org.</b></div><div class=\"sk-container\" hidden><div class=\"sk-item\"><div class=\"sk-estimator sk-toggleable\"><input class=\"sk-toggleable__control sk-hidden--visually\" id=\"sk-estimator-id-2\" type=\"checkbox\" checked><label for=\"sk-estimator-id-2\" class=\"sk-toggleable__label sk-toggleable__label-arrow\">LogisticRegression</label><div class=\"sk-toggleable__content\"><pre>LogisticRegression()</pre></div></div></div></div></div>"
      ],
      "text/plain": [
       "LogisticRegression()"
      ]
     },
     "metadata": {},
     "output_type": "display_data"
    }
   ],
   "source": []
  },
  {
   "cell_type": "code",
   "execution_count": null,
   "metadata": {},
   "outputs": [
    {
     "name": "stdout",
     "output_type": "stream",
     "text": [
      "              precision    recall  f1-score   support\n",
      "\n",
      "           0       0.96      0.96      0.96     11092\n",
      "           1       0.91      0.91      0.91      4869\n",
      "\n",
      "    accuracy                           0.95     15961\n",
      "   macro avg       0.94      0.94      0.94     15961\n",
      "weighted avg       0.95      0.95      0.95     15961\n",
      "\n"
     ]
    }
   ],
   "source": []
  },
  {
   "cell_type": "code",
   "execution_count": null,
   "metadata": {},
   "outputs": [
    {
     "ename": "KeyError",
     "evalue": "\"['Auto Loan'] not in index\"",
     "output_type": "error",
     "traceback": [
      "\u001b[1;31m---------------------------------------------------------------------------\u001b[0m\n",
      "\u001b[1;31mKeyError\u001b[0m                                  Traceback (most recent call last)\n",
      "Cell \u001b[1;32mIn[166], line 12\u001b[0m\n",
      "\u001b[0;32m      2\u001b[0m new_lr \u001b[38;5;241m=\u001b[39m LogisticRegression()\n",
      "\u001b[0;32m      3\u001b[0m selected_features \u001b[38;5;241m=\u001b[39m [\u001b[38;5;124m'\u001b[39m\u001b[38;5;124mMonthly_Inhand_Salary\u001b[39m\u001b[38;5;124m'\u001b[39m, \u001b[38;5;124m'\u001b[39m\u001b[38;5;124mNum_Bank_Accounts\u001b[39m\u001b[38;5;124m'\u001b[39m, \u001b[38;5;124m'\u001b[39m\u001b[38;5;124mNum_Credit_Card\u001b[39m\u001b[38;5;124m'\u001b[39m,\n",
      "\u001b[0;32m      4\u001b[0m        \u001b[38;5;124m'\u001b[39m\u001b[38;5;124mInterest_Rate\u001b[39m\u001b[38;5;124m'\u001b[39m, \u001b[38;5;124m'\u001b[39m\u001b[38;5;124mNum_of_Loan\u001b[39m\u001b[38;5;124m'\u001b[39m, \u001b[38;5;124m'\u001b[39m\u001b[38;5;124mDelay_from_due_date\u001b[39m\u001b[38;5;124m'\u001b[39m,\n",
      "\u001b[0;32m      5\u001b[0m        \u001b[38;5;124m'\u001b[39m\u001b[38;5;124mNum_of_Delayed_Payment\u001b[39m\u001b[38;5;124m'\u001b[39m, \u001b[38;5;124m'\u001b[39m\u001b[38;5;124mChanged_Credit_Limit\u001b[39m\u001b[38;5;124m'\u001b[39m,\n",
      "\u001b[1;32m   (...)\u001b[0m\n",
      "\u001b[0;32m      9\u001b[0m        \u001b[38;5;124m'\u001b[39m\u001b[38;5;124mDebt Consolidation Loan\u001b[39m\u001b[38;5;124m'\u001b[39m, \u001b[38;5;124m'\u001b[39m\u001b[38;5;124mHome Equity Loan\u001b[39m\u001b[38;5;124m'\u001b[39m, \u001b[38;5;124m'\u001b[39m\u001b[38;5;124mMortgage Loan\u001b[39m\u001b[38;5;124m'\u001b[39m,\n",
      "\u001b[0;32m     10\u001b[0m        \u001b[38;5;124m'\u001b[39m\u001b[38;5;124mNot Specified\u001b[39m\u001b[38;5;124m'\u001b[39m, \u001b[38;5;124m'\u001b[39m\u001b[38;5;124mPayday Loan\u001b[39m\u001b[38;5;124m'\u001b[39m, \u001b[38;5;124m'\u001b[39m\u001b[38;5;124mPersonal Loan\u001b[39m\u001b[38;5;124m'\u001b[39m, \u001b[38;5;124m'\u001b[39m\u001b[38;5;124mStudent Loan\u001b[39m\u001b[38;5;124m'\u001b[39m]\n",
      "\u001b[1;32m---> 12\u001b[0m new_lr\u001b[38;5;241m.\u001b[39mfit(\u001b[43mX_train\u001b[49m\u001b[43m[\u001b[49m\u001b[43mselected_features\u001b[49m\u001b[43m]\u001b[49m, y_train)\n",
      "\u001b[0;32m     14\u001b[0m \u001b[38;5;66;03m# Предсказание на тестовом наборе\u001b[39;00m\n",
      "\u001b[0;32m     15\u001b[0m predicted \u001b[38;5;241m=\u001b[39m new_lr\u001b[38;5;241m.\u001b[39mpredict(X_test[selected_features])\n",
      "\n",
      "File \u001b[1;32m~\\AppData\\Local\\Packages\\PythonSoftwareFoundation.Python.3.10_qbz5n2kfra8p0\\LocalCache\\local-packages\\Python310\\site-packages\\pandas\\core\\frame.py:3902\u001b[0m, in \u001b[0;36mDataFrame.__getitem__\u001b[1;34m(self, key)\u001b[0m\n",
      "\u001b[0;32m   3900\u001b[0m     \u001b[38;5;28;01mif\u001b[39;00m is_iterator(key):\n",
      "\u001b[0;32m   3901\u001b[0m         key \u001b[38;5;241m=\u001b[39m \u001b[38;5;28mlist\u001b[39m(key)\n",
      "\u001b[1;32m-> 3902\u001b[0m     indexer \u001b[38;5;241m=\u001b[39m \u001b[38;5;28;43mself\u001b[39;49m\u001b[38;5;241;43m.\u001b[39;49m\u001b[43mcolumns\u001b[49m\u001b[38;5;241;43m.\u001b[39;49m\u001b[43m_get_indexer_strict\u001b[49m\u001b[43m(\u001b[49m\u001b[43mkey\u001b[49m\u001b[43m,\u001b[49m\u001b[43m \u001b[49m\u001b[38;5;124;43m\"\u001b[39;49m\u001b[38;5;124;43mcolumns\u001b[39;49m\u001b[38;5;124;43m\"\u001b[39;49m\u001b[43m)\u001b[49m[\u001b[38;5;241m1\u001b[39m]\n",
      "\u001b[0;32m   3904\u001b[0m \u001b[38;5;66;03m# take() does not accept boolean indexers\u001b[39;00m\n",
      "\u001b[0;32m   3905\u001b[0m \u001b[38;5;28;01mif\u001b[39;00m \u001b[38;5;28mgetattr\u001b[39m(indexer, \u001b[38;5;124m\"\u001b[39m\u001b[38;5;124mdtype\u001b[39m\u001b[38;5;124m\"\u001b[39m, \u001b[38;5;28;01mNone\u001b[39;00m) \u001b[38;5;241m==\u001b[39m \u001b[38;5;28mbool\u001b[39m:\n",
      "\n",
      "File \u001b[1;32m~\\AppData\\Local\\Packages\\PythonSoftwareFoundation.Python.3.10_qbz5n2kfra8p0\\LocalCache\\local-packages\\Python310\\site-packages\\pandas\\core\\indexes\\base.py:6114\u001b[0m, in \u001b[0;36mIndex._get_indexer_strict\u001b[1;34m(self, key, axis_name)\u001b[0m\n",
      "\u001b[0;32m   6111\u001b[0m \u001b[38;5;28;01melse\u001b[39;00m:\n",
      "\u001b[0;32m   6112\u001b[0m     keyarr, indexer, new_indexer \u001b[38;5;241m=\u001b[39m \u001b[38;5;28mself\u001b[39m\u001b[38;5;241m.\u001b[39m_reindex_non_unique(keyarr)\n",
      "\u001b[1;32m-> 6114\u001b[0m \u001b[38;5;28;43mself\u001b[39;49m\u001b[38;5;241;43m.\u001b[39;49m\u001b[43m_raise_if_missing\u001b[49m\u001b[43m(\u001b[49m\u001b[43mkeyarr\u001b[49m\u001b[43m,\u001b[49m\u001b[43m \u001b[49m\u001b[43mindexer\u001b[49m\u001b[43m,\u001b[49m\u001b[43m \u001b[49m\u001b[43maxis_name\u001b[49m\u001b[43m)\u001b[49m\n",
      "\u001b[0;32m   6116\u001b[0m keyarr \u001b[38;5;241m=\u001b[39m \u001b[38;5;28mself\u001b[39m\u001b[38;5;241m.\u001b[39mtake(indexer)\n",
      "\u001b[0;32m   6117\u001b[0m \u001b[38;5;28;01mif\u001b[39;00m \u001b[38;5;28misinstance\u001b[39m(key, Index):\n",
      "\u001b[0;32m   6118\u001b[0m     \u001b[38;5;66;03m# GH 42790 - Preserve name from an Index\u001b[39;00m\n",
      "\n",
      "File \u001b[1;32m~\\AppData\\Local\\Packages\\PythonSoftwareFoundation.Python.3.10_qbz5n2kfra8p0\\LocalCache\\local-packages\\Python310\\site-packages\\pandas\\core\\indexes\\base.py:6178\u001b[0m, in \u001b[0;36mIndex._raise_if_missing\u001b[1;34m(self, key, indexer, axis_name)\u001b[0m\n",
      "\u001b[0;32m   6175\u001b[0m     \u001b[38;5;28;01mraise\u001b[39;00m \u001b[38;5;167;01mKeyError\u001b[39;00m(\u001b[38;5;124mf\u001b[39m\u001b[38;5;124m\"\u001b[39m\u001b[38;5;124mNone of [\u001b[39m\u001b[38;5;132;01m{\u001b[39;00mkey\u001b[38;5;132;01m}\u001b[39;00m\u001b[38;5;124m] are in the [\u001b[39m\u001b[38;5;132;01m{\u001b[39;00maxis_name\u001b[38;5;132;01m}\u001b[39;00m\u001b[38;5;124m]\u001b[39m\u001b[38;5;124m\"\u001b[39m)\n",
      "\u001b[0;32m   6177\u001b[0m not_found \u001b[38;5;241m=\u001b[39m \u001b[38;5;28mlist\u001b[39m(ensure_index(key)[missing_mask\u001b[38;5;241m.\u001b[39mnonzero()[\u001b[38;5;241m0\u001b[39m]]\u001b[38;5;241m.\u001b[39munique())\n",
      "\u001b[1;32m-> 6178\u001b[0m \u001b[38;5;28;01mraise\u001b[39;00m \u001b[38;5;167;01mKeyError\u001b[39;00m(\u001b[38;5;124mf\u001b[39m\u001b[38;5;124m\"\u001b[39m\u001b[38;5;132;01m{\u001b[39;00mnot_found\u001b[38;5;132;01m}\u001b[39;00m\u001b[38;5;124m not in index\u001b[39m\u001b[38;5;124m\"\u001b[39m)\n",
      "\n",
      "\u001b[1;31mKeyError\u001b[0m: \"['Auto Loan'] not in index\""
     ]
    }
   ],
   "source": []
  },
  {
   "cell_type": "code",
   "execution_count": null,
   "metadata": {},
   "outputs": [
    {
     "name": "stdout",
     "output_type": "stream",
     "text": [
      "              precision    recall  f1-score   support\n",
      "\n",
      "           0       0.98      1.00      0.99     11092\n",
      "           1       0.99      0.95      0.97      4869\n",
      "\n",
      "    accuracy                           0.98     15961\n",
      "   macro avg       0.99      0.97      0.98     15961\n",
      "weighted avg       0.98      0.98      0.98     15961\n",
      "\n"
     ]
    }
   ],
   "source": []
  },
  {
   "cell_type": "code",
   "execution_count": null,
   "metadata": {},
   "outputs": [],
   "source": []
  },
  {
   "cell_type": "code",
   "execution_count": null,
   "id": "68c20350-c436-4252-8427-d5229e48b8af",
   "metadata": {
    "ExecuteTime": {
     "end_time": "2024-04-04T04:02:14.971403800Z",
     "start_time": "2024-04-04T04:02:14.891700600Z"
    }
   },
   "outputs": [
    {
     "name": "stdout",
     "output_type": "stream",
     "text": [
      "              precision    recall  f1-score   support\n",
      "\n",
      "           0       0.98      1.00      0.99     11092\n",
      "           1       0.99      0.95      0.97      4869\n",
      "\n",
      "    accuracy                           0.98     15961\n",
      "   macro avg       0.99      0.97      0.98     15961\n",
      "weighted avg       0.98      0.98      0.98     15961\n",
      "\n"
     ]
    }
   ],
   "source": [
    "# Проанализируйте результаты и сделайте выводы о качестве модели.\n",
    "import sklearn.metrics as mt\n",
    "print(mt.classification_report(y_test, predicted))"
   ]
  },
  {
   "cell_type": "code",
   "execution_count": null,
   "id": "9153517b-8315-4e2a-b09e-c5c4466f443e",
   "metadata": {},
   "outputs": [],
   "source": []
  }
 ],
 "metadata": {
  "kernelspec": {
   "display_name": "Python 3 (ipykernel)",
   "language": "python",
   "name": "python3"
  },
  "language_info": {
   "codemirror_mode": {
    "name": "ipython",
    "version": 3
   },
   "file_extension": ".py",
   "mimetype": "text/x-python",
   "name": "python",
   "nbconvert_exporter": "python",
   "pygments_lexer": "ipython3",
   "version": "3.10.11"
  }
 },
 "nbformat": 4,
 "nbformat_minor": 5
}
